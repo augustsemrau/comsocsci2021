{
 "cells": [
  {
   "cell_type": "markdown",
   "metadata": {},
   "source": [
    "# Some important admin and homework for next time.\n",
    "\n",
    "\n",
    "1. __Important point number 1__. We are reaching the mid-term of the semester and it is time for some reflection :) I want to know from you guys how the class is going. This is super important for me to make sure that the second half of the semester goes well. Before working on the material for today, please __fill [the mid-term survery ](https://docs.google.com/forms/d/e/1FAIpQLSc79NAmXoPfYjmVyVgCDUdyK8narAOuR-CmgYhQM6h3vRZfuA/viewform?usp=sf_link)__ on Google Forms. I promise it should not take more than 5 minutes. \n",
    "\n",
    "\n",
    "2. __Important point number 2__. We are slowly approaching the time when you guys will work on your own project. There are still a couple of classes to go, but by now you have a good idea of the methods and types of questions we work with in this class. And I would like to start discussing your ideas. Make sure you __complete Exercise 5 (at the end of this notebook) before next Wednesday__. We will take some time to talk about it next time. \n"
   ]
  },
  {
   "cell_type": "markdown",
   "metadata": {},
   "source": [
    "# Overview of today's class.\n",
    "\n",
    "This week's curriculum is about text analysis. The overview is\n",
    "\n",
    "* Tricks for raw text (NLPP Chapter 3) and finding the important words in a document (TF-IDF)\n",
    "* Apply these tricks to study the content of submissions \n",
    "\n",
    "In the first part, we will take a quick tour of NLPP's chapter 3, which is boring, but an amazing resource that you'll keep returning to. Then we'll talk about how we can use simple statistics to get text to show us what it's all about. We will even do a little visualization. \n"
   ]
  },
  {
   "cell_type": "markdown",
   "metadata": {},
   "source": [
    "# Part 1 - Processing real text (from out on the inter-webs)\n",
    "\n",
    "Ok. So Chapter 3 in NLPP is all about working with text from the real world. Getting text from this internet, cleaning it, tokenizing, modifying (e.g. stemming, converting to lower case, etc) to get the text in shape to work with the NLTK tools you've already learned about - and many more. In the process we'll learn more about regular expressions, as well as unicode; something we've already been struggling with a little bit will now be explained in more detail. \n",
    "> \n",
    "> **Video lecture**: Short overview of chapter 3 + a few words about kinds of language processing that we don't address in this class. \n",
    "> "
   ]
  },
  {
   "cell_type": "code",
   "execution_count": null,
   "metadata": {},
   "outputs": [],
   "source": [
    "from IPython.display import YouTubeVideo\n",
    "YouTubeVideo(\"Rwakh-HXPJk\",width=800, height=450)"
   ]
  },
  {
   "cell_type": "markdown",
   "metadata": {},
   "source": [
    "> *Reading*: NLPP Chapter 3.1, 3.2, 3.3, 3.4, 3.5, 3.6, 3.7, 3.9, and 3.10\\. It's not important that you go in depth with everything here - the key thing is that you *know that Chapter 3 of this book exists*, and that it's a great place to return to if you're ever in need of an explanation of regular expressions, unicode, or other topics that you forget as soon as you stop using them (and don't worry, I forget about those things too)."
   ]
  },
  {
   "cell_type": "markdown",
   "metadata": {},
   "source": [
    "> _Exercise_ 1: Just a couple of examples from the book: Work through the exercises NLPP 3.12: 6, 30."
   ]
  },
  {
   "cell_type": "code",
   "execution_count": 11,
   "metadata": {},
   "outputs": [
    {
     "output_type": "stream",
     "name": "stdout",
     "text": [
      "*** Introductory Examples for the NLTK Book ***\n",
      "Loading text1, ..., text9 and sent1, ..., sent9\n",
      "Type the name of the text or sentence to view it.\n",
      "Type: 'texts()' or 'sents()' to list the materials.\n",
      "text1: Moby Dick by Herman Melville 1851\n",
      "text2: Sense and Sensibility by Jane Austen 1811\n",
      "text3: The Book of Genesis\n",
      "text4: Inaugural Address Corpus\n",
      "text5: Chat Corpus\n",
      "text6: Monty Python and the Holy Grail\n",
      "text7: Wall Street Journal\n",
      "text8: Personals Corpus\n",
      "text9: The Man Who Was Thursday by G . K . Chesterton 1908\n"
     ]
    }
   ],
   "source": [
    "import nltk\n",
    "from nltk.book import *"
   ]
  },
  {
   "cell_type": "code",
   "execution_count": 12,
   "metadata": {},
   "outputs": [
    {
     "output_type": "stream",
     "name": "stdout",
     "text": [
      "[a-zA-Z]+: A string that contains at least one letter, either lower or upper case.\n[A-Z][a-z]*: A string with zero or more letters in the alphabet.\np[aeiou]{,2}t: \n"
     ]
    },
    {
     "output_type": "error",
     "ename": "TypeError",
     "evalue": "re_show() missing 1 required positional argument: 'string'",
     "traceback": [
      "\u001b[0;31m---------------------------------------------------------------------------\u001b[0m",
      "\u001b[0;31mTypeError\u001b[0m                                 Traceback (most recent call last)",
      "\u001b[0;32m<ipython-input-12-92dc0a7b8fdb>\u001b[0m in \u001b[0;36m<module>\u001b[0;34m\u001b[0m\n\u001b[1;32m     35\u001b[0m \u001b[0mprint\u001b[0m\u001b[0;34m(\u001b[0m\u001b[0;34m\"p[aeiou]{,2}t: \"\u001b[0m\u001b[0;34m)\u001b[0m\u001b[0;34m\u001b[0m\u001b[0;34m\u001b[0m\u001b[0m\n\u001b[1;32m     36\u001b[0m \u001b[0;34m\u001b[0m\u001b[0m\n\u001b[0;32m---> 37\u001b[0;31m \u001b[0mnltk\u001b[0m\u001b[0;34m.\u001b[0m\u001b[0mre_show\u001b[0m\u001b[0;34m(\u001b[0m\u001b[0;34m\"[a-zA-Z]\"\u001b[0m\u001b[0;34m)\u001b[0m\u001b[0;34m\u001b[0m\u001b[0;34m\u001b[0m\u001b[0m\n\u001b[0m",
      "\u001b[0;31mTypeError\u001b[0m: re_show() missing 1 required positional argument: 'string'"
     ]
    }
   ],
   "source": [
    "\"\"\" NLPP 3.12: 6:\n",
    "Describe the class of strings matched by the following regular expressions.\n",
    "\n",
    "    [a-zA-Z]+\n",
    "    [A-Z][a-z]*\n",
    "    p[aeiou]{,2}t\n",
    "    \\d+(\\.\\d+)?\n",
    "    ([^aeiou][aeiou][^aeiou])*\n",
    "    \\w+|[^\\w\\s]+\n",
    "\n",
    "Test your answers using nltk.re_show().\"\"\"\n",
    "\n",
    "\n",
    "\"\"\"\n",
    "Operator \tBehavior\n",
    ". \tWildcard, matches any character\n",
    "^abc \tMatches some pattern abc at the start of a string\n",
    "abc$ \tMatches some pattern abc at the end of a string\n",
    "[abc] \tMatches one of a set of characters\n",
    "[A-Z0-9] \tMatches one of a range of characters\n",
    "ed|ing|s \tMatches one of the specified strings (disjunction)\n",
    "* \tZero or more of previous item, e.g. a*, [a-z]* (also known as Kleene Closure)\n",
    "+ \tOne or more of previous item, e.g. a+, [a-z]+\n",
    "? \tZero or one of the previous item (i.e. optional), e.g. a?, [a-z]?\n",
    "{n} \tExactly n repeats where n is a non-negative integer\n",
    "{n,} \tAt least n repeats\n",
    "{,n} \tNo more than n repeats\n",
    "{m,n} \tAt least m and no more than n repeats\n",
    "a(b|c)+ \tParentheses that indicate the scope of the operators\n",
    "\n",
    "\"\"\"\n",
    "\n",
    "print(\"[a-zA-Z]+: A string that contains at least one letter, either lower or upper case.\")\n",
    "print(\"[A-Z][a-z]*: A string with zero or more letters in the alphabet.\")\n",
    "print(\"p[aeiou]{,2}t: \")\n",
    "\n",
    "nltk.re_show(\"[a-zA-Z]\")\n"
   ]
  },
  {
   "cell_type": "code",
   "execution_count": 22,
   "metadata": {
    "tags": []
   },
   "outputs": [
    {
     "output_type": "stream",
     "name": "stdout",
     "text": [
      "'When I'M a Duchess,' she said to herself, (not in a very hopeful tone\nthough), 'I won't have any pepper in my kitchen AT ALL. Soup does very\nwell without--Maybe it's always pepper that makes people hot-tempered,'...\n'when i'm a duchess,' she said to herself, (not in a veri hope tone\nthough), 'I won't have ani pepper in my kitchen AT all. soup doe very\nwel without--mayb it' alway pepper that make peopl hot-tempered,'...\n'when i'm a duchess,' she said to herself, (not in a very hop tone\nthough), 'i won't hav any pep in my kitch at all. soup doe very\nwell without--maybe it's alway pep that mak peopl hot-tempered,'...\n"
     ]
    }
   ],
   "source": [
    "\"\"\"NLPP 3.12: 30:\n",
    "Use the Porter Stemmer to normalize some tokenized text, calling the stemmer on each word. Do the same thing with the Lancaster Stemmer and see if you observe any differences.\"\"\"\n",
    "\n",
    "porter = nltk.PorterStemmer()\n",
    "lancaster = nltk.LancasterStemmer()\n",
    "\n",
    "tokens = [\"'When\", \"I'M\", 'a', \"Duchess,'\", 'she', 'said', 'to', 'herself,', '(not', 'in',\n",
    "'a', 'very', 'hopeful', 'tone\\nthough),', \"'I\", \"won't\", 'have', 'any', 'pepper',\n",
    "'in', 'my', 'kitchen', 'AT', 'ALL.', 'Soup', 'does', 'very\\nwell', 'without--Maybe',\n",
    "\"it's\", 'always', 'pepper', 'that', 'makes', 'people', \"hot-tempered,'...\"]\n",
    "\n",
    "print(' '.join(tokens))\n",
    "\n",
    "tokens_porter = [porter.stem(w) for w in tokens]\n",
    "tokens_lancaster = [lancaster.stem(w) for w in tokens]\n",
    "\n",
    "print(' '.join(tokens_porter))\n",
    "print(' '.join(tokens_lancaster))\n"
   ]
  },
  {
   "cell_type": "markdown",
   "metadata": {},
   "source": [
    "### Prelude to part 2. -  Data.\n",
    "\n",
    "In the follwing exercises, we will study the text contained in _r/wallstreebets_ submissions. To make things a bit more exciting, we will work with \\**all** the submissions posted in 2020 in _r/wallstreebets_. As you may well guess, we will need both the title and the content of each submission.\n",
    "\n",
    "To make things a bit less tedious for you guys, I downloaded and made avaialble the data you need (you can find it [here](https://github.com/lalessan/comsocsci2021/blob/master/data/wallstreet_subs.csv.gz)). The dataset consists of all the submissions posted between January 1st and December 31st 2020 with content in English. For each submission, you have the following information: timestamp of creation (__created_utc__), __title__, textual content (__selftext__), and __score__. You are welcome to use this data. If you prefer to download your own (see optional exercise below), that's even better!! As usual, I do not expect you to find a perfect match between your data and mine. In the exercises below, I refer to this data as the \"_wallstreetbets submissions dataset_\".\n",
    "\n",
    "_Exercise (Optional)_: \n",
    "\n",
    "> * Download all submissions posted on _r/wallstreetbets_ in 2020 using [psaw](https://pypi.org/project/psaw/).\n",
    "> * For each submission, keep the title, the textual content, the score, and the time of creation. \n",
    "> * Remove submissions whose content has been removed, and those that are not in English. You can use the library [langdetect](https://pypi.org/project/langdetect/) to detect the language of a given text.\n",
    "\n"
   ]
  },
  {
   "cell_type": "markdown",
   "metadata": {},
   "source": [
    "# Part 2 - Words that characterize stocks discussed on r/wallstreetbets\n",
    "\n",
    "In this section, we'll begin to play around with how far we can get with simple strategies for looking at text. The video is Sune talking about a fun paper, which shows you how little is needed in order to reveal something very interesting about humans that produce text. Then, we'll use a very simple weighting scheme called TF-IDF to find the words in the reddit r/wallstreetbets submissions that charachterize different stocks. In cleaning the Reddit submissions, we'll use some of the stuff you've just read about above. Finally, we'll even visualize them in a fun little word cloud (below is what I found for the discussions around Gamestop, Microsoft, and Tesla). The wordclouds may not be immediately understandable. But if you do some research on the important words, you will find that the TF-IDF method extracts quite interesting information.\n",
    "\n",
    "<img src=\"https://github.com/lalessan/comsocsci2021/blob/master/files/wordclouds.png?raw=true\" alt=\"Drawing\" style=\"width: 1000px;\"/>\n"
   ]
  },
  {
   "cell_type": "markdown",
   "metadata": {},
   "source": [
    "> **Video lecture**: Simple methods reveal a lot. Sune talks a little bit about the paper: [Personality, Gender, and Age in the Language of Social Media: The Open-Vocabulary Approach](http://journals.plos.org/plosone/article?id=10.1371/journal.pone.0073791).  "
   ]
  },
  {
   "cell_type": "code",
   "execution_count": null,
   "metadata": {
    "scrolled": true
   },
   "outputs": [],
   "source": [
    "YouTubeVideo(\"wkYvdfkVmlI\",width=800, height=450)"
   ]
  },
  {
   "cell_type": "markdown",
   "metadata": {},
   "source": [
    "_Exercise 2: Most discussed stocks in r/wallstreebets_. GME is only one among many stocks people have discussed in _r/wallstreetbets_. In this exercise, we will find the most discussed stocks on _wallstreetbets_. Stocks are identified by their [Ticker symbol](https://en.wikipedia.org/wiki/Ticker_symbol). A Ticker symbol is nothing but a string consisting of letters and numbers, and is typically quite short. For example the Gamestop symbol is _GME_, Amazon is _AMZN_, Alphabet is _GOOGL_...\n",
    "\n",
    "> 1. To talk about a specific stock, Redditors often use the corresponding ticker symbol [preceded by the dollar sign](https://www.reddit.com/r/wallstreetbets/comments/5yvvue/why_do_you_put_a_dollar_sign_in_front_of_a_ticker/) (\\\\$GME, \\$AMZN...). Write down a [Regular Expression](https://en.wikipedia.org/wiki/Regular_expression) matching words that begin with a dollar sign \"\\\\$\". See [NLPP book, section 3.4]().\n",
    "> 2. Load the _wallstreetbets submission dataset_ as a Pandas DataFrame and create a new column containing both the title and the textual content of each submission (as one long string). We refer to this as the _text_ of the submission.\n",
    "> 3. For each submission, find all ticker symbols (those preceded by a dollar sign) contained in the _text_. Use the function [re.findall](https://docs.python.org/3/library/re.html), and the regular expression you created in point 1). Some tips for success: \n",
    "> > * Remove matches that are definetly not stock symbols (for example amounts like: \\\\$100, \\$1000k).\n",
    "> > * Convert all matches to uppercase\n",
    "> > * Remove the dollar sign at the beginning of the symbol (e.g. \\\\$gme → GME).\n",
    "> 4. Create a list containing the top 15 Ticker Symbols by number of occurrences. GME should be among them. If it is not, check again your analysis and/or come talk to me. Google the top 15 symbols and find the corresponding company names. Are they known companies or not?"
   ]
  },
  {
   "cell_type": "code",
   "execution_count": 3,
   "metadata": {},
   "outputs": [],
   "source": [
    "import pandas as pd\n",
    "import re\n",
    "\n"
   ]
  },
  {
   "cell_type": "code",
   "execution_count": 4,
   "metadata": {},
   "outputs": [],
   "source": [
    "wsb_subs = pd.read_csv('/home/augustsemrau/drive/6semester/CSS_02467/comsocsci2021/lectures/data/week6/wallstreet_subs.csv', parse_dates=['created_utc']).set_index('created_utc')"
   ]
  },
  {
   "cell_type": "code",
   "execution_count": null,
   "metadata": {},
   "outputs": [],
   "source": [
    "\"\"\"1. To talk about a specific stock, Redditors often use the corresponding ticker symbol [preceded by the dollar sign](https://www.reddit.com/r/wallstreetbets/comments/5yvvue/why_do_you_put_a_dollar_sign_in_front_of_a_ticker/) (\\$GME, \\$AMZN...). Write down a [Regular Expression](https://en.wikipedia.org/wiki/Regular_expression) matching words that begin with a dollar sign \"\\$\". See [NLPP book, section 3.4]().\"\"\"\n",
    "\n",
    "# A stock ticker would be [$][a-zA-Z]{3,5}\n",
    "\n"
   ]
  },
  {
   "cell_type": "code",
   "execution_count": 6,
   "metadata": {},
   "outputs": [],
   "source": [
    "\"\"\"2. Load the _wallstreetbets submission dataset_ as a Pandas DataFrame and create a new column containing both the title and the textual content of each submission (as one long string). We refer to this as the _text_ of the submission.\"\"\"\n",
    "\n",
    "wsb_subs['text'] = wsb_subs['title'] + ' ' + wsb_subs['selftext']\n"
   ]
  },
  {
   "cell_type": "code",
   "execution_count": 7,
   "metadata": {
    "tags": []
   },
   "outputs": [],
   "source": [
    "\"\"\"3. For each submission, find all ticker symbols (those preceded by a dollar sign) contained in the _text_. Use the function [re.findall](https://docs.python.org/3/library/re.html), and the regular expression you created in point 1). Some tips for success: \n",
    "> > * Remove matches that are definetly not stock symbols (for example amounts like: \\\\$100, \\$1000k).\n",
    "> > * Convert all matches to uppercase\n",
    "> > * Remove the dollar sign at the beginning of the symbol (e.g. \\\\$gme → GME).\"\"\"\n",
    "\n",
    "\n",
    "\n",
    "def find_ticker(string):\n",
    "    ticker = re.findall(r'[$][A-Za-z]{3,5}', string)\n",
    "    # if ticker != []:\n",
    "    #     print(ticker)\n",
    "    ticker = [x.upper()[1:] for x in ticker]\n",
    "    return ticker\n",
    "\n",
    "wsb_subs['tickers'] = wsb_subs.text.apply(find_ticker)\n",
    "# print(wsb_subs.iloc[-1])\n",
    "wsb_subs.to_csv('/home/augustsemrau/drive/6semester/CSS_02467/comsocsci2021/lectures/data/week6/wsb_subs.csv')\n"
   ]
  },
  {
   "cell_type": "code",
   "execution_count": 9,
   "metadata": {
    "tags": [
     "outputPrepend"
    ]
   },
   "outputs": [
    {
     "output_type": "stream",
     "name": "stdout",
     "text": [
      ", 'MCF': 1, 'BWAY': 6, 'SNX': 7, 'GMS': 1, 'WOR': 7, 'QMCO': 1, 'AFMD': 1, 'EPAC': 1, 'WUBA': 1, 'USAT': 2, 'PDCO': 2, 'APOG': 9, 'PRGS': 7, 'FUL': 1, 'AEMD': 1, 'AIH': 1, 'YRD': 1, 'STAF': 1, 'UFAB': 2, 'CAMP': 1, 'WRTC': 1, 'LHA': 1, 'SPXS': 18, 'WMT': 64, 'IVR': 1, 'FILE': 5, 'PREIX': 1, 'NVTA': 15, 'RDS': 1, 'DFEN': 4, 'NRZ': 4, 'BXP': 3, 'FREE': 2, 'HRTX': 9, 'PHIA': 1, 'NVAX': 38, 'STRIK': 1, 'EROS': 3, 'PLNT': 13, 'BYOCH': 1, 'TLDR': 2, 'KRNT': 1, 'CRSP': 9, 'UCO': 4, 'CPRI': 1, 'YUM': 10, 'REGI': 1, 'VWAGY': 3, 'LAZYW': 1, 'XRT': 2, 'QUICK': 1, 'PIZZA': 1, 'PAPA': 2, 'DOMIN': 1, 'LITTL': 1, 'ELIOS': 1, 'NOTDE': 1, 'VSLA': 2, 'MDB': 7, 'WAFU': 1, 'CHD': 3, 'ORI': 1, 'ICLN': 31, 'RKT': 87, 'CROWD': 1, 'GRNVR': 2, 'NNOX': 10, 'DORIT': 2, 'BAND': 10, 'API': 8, 'ASML': 5, 'XPEV': 29, 'CRM': 92, 'ELEVE': 1, 'SPSC': 1, 'CVAC': 3, 'IQV': 1, 'SABR': 6, 'FIVN': 4, 'IPOC': 6, 'IPOB': 22, 'MCOA': 1, 'CLDR': 12, 'AUPH': 4, 'BIG': 19, 'SLQT': 3, 'BLCT': 1, 'MLHR': 3, 'OLN': 2, 'VALE': 139, 'COSTC': 1, 'CHL': 3, 'CROX': 26, 'BOTZ': 3, 'FDN': 1, 'XLK': 4, 'PBW': 2, 'HON': 10, 'QRTEA': 3, 'SCS': 7, 'WEAT': 3, 'SOYB': 3, 'CANE': 1, 'CMPS': 10, 'CBRL': 5, 'HORTI': 1, 'CAE': 1, 'AWK': 4, 'DHR': 6, 'XYL': 1, 'ECL': 6, 'CBT': 1, 'SPAK': 1, 'MCAC': 2, 'GDOT': 1, 'LYSCF': 1, 'FVAC': 10, 'ESGC': 2, 'BRK': 26, 'UHS': 2, 'TEF': 1, 'VEON': 1, 'CRSR': 38, 'LOGI': 25, 'GWPH': 3, 'CRON': 10, 'SLV': 73, 'RXT': 7, 'AKBA': 2, 'FEAC': 9, 'SONO': 14, 'YETI': 10, 'BILI': 19, 'KCAC': 4, 'TPII': 7, 'AVGO': 6, 'NCNO': 6, 'VEEV': 7, 'STONK': 3, 'CMCS': 1, 'MSGE': 2, 'MSGS': 1, 'BIGC': 7, 'SDGR': 3, 'HUNGR': 1, 'WKSP': 1, 'EBS': 1, 'VIRT': 33, 'TOCKS': 1, 'TSLAC': 1, 'LEN': 3, 'ORCL': 13, 'TCEHY': 6, 'KNR': 1, 'KNRLF': 1, 'WACQ': 1, 'WACQW': 1, 'FUQU': 1, 'BMRG': 1, 'SEDG': 9, 'FSLR': 9, 'RDY': 5, 'AMWL': 4, 'IPBO': 1, 'CUM': 2, 'PAND': 1, 'PCEF': 1, 'KODAK': 2, 'OUCH': 1, 'LIT': 10, 'WEGE': 1, 'XYLEB': 1, 'NIKOL': 2, 'TESLA': 7, 'BOOZE': 1, 'GUN': 1, 'BEKE': 2, 'NCHL': 2, 'FUSE': 5, 'ALB': 5, 'NESN': 1, 'SMSN': 1, 'ULVR': 2, 'BMYRT': 2, 'CBAT': 2, 'SUNW': 1, 'SPI': 1, 'OXBR': 1, 'LUMN': 23, 'SUN': 4, 'NIKL': 1, 'NIKE': 2, 'TAK': 5, 'PSSYD': 1, 'POOL': 2, 'BALL': 1, 'ILCN': 1, 'ACI': 15, 'TRQ': 2, 'UNDR': 3, 'DXCM': 12, 'PAST': 1, 'ABNB': 16, 'IMMU': 1, 'IAU': 4, 'TDA': 1, 'HNCKF': 1, 'BKR': 2, 'ARKW': 3, 'ARKQ': 1, 'ACES': 1, 'TXT': 1, 'BOLT': 1, 'ASAN': 5, 'SWBI': 16, 'NUKES': 2, 'MUSK': 1, 'FLR': 9, 'SUM': 1, 'CBAK': 1, 'SCAM': 1, 'ASPU': 1, 'HELE': 2, 'AZZ': 2, 'MARK': 5, 'SAR': 2, 'JMDA': 1, 'CPST': 1, 'SEA': 2, 'POST': 1, 'TWOU': 26, 'DOGE': 1, 'ADD': 1, 'VOLD': 1, 'TICK': 3, 'BLL': 1, 'CAJ': 2, 'BURL': 11, 'WDAY': 16, 'TMF': 1, 'DKNGZ': 1, 'BRR': 1, 'LKQ': 1, 'TER': 7, 'TAP': 4, 'STM': 6, 'QSR': 7, 'APH': 4, 'UVXY': 22, 'FUSN': 1, 'PENN': 50, 'RTX': 3, 'AML': 1, 'BIOWA': 1, 'RACEW': 1, 'CRUS': 1, 'REG': 3, 'ONEM': 4, 'AUY': 14, 'HGANG': 1, 'ZUO': 20, 'DEBT': 2, 'EPD': 1, 'SIL': 2, 'DNB': 2, 'SAM': 3, 'EDTK': 3, 'EDU': 1, 'VMC': 7, 'EHTH': 3, 'HOLX': 7, 'LOGX': 1, 'FFIV': 2, 'RPD': 1, 'IPNFF': 1, 'LKNCY': 2, 'ADYYF': 1, 'PAGS': 2, 'CMCX': 1, 'BTC': 2, 'CLF': 18, 'SPHD': 2, 'IYW': 2, 'TRIN': 4, 'PASO': 5, 'POPCO': 1, 'OPK': 30, 'MONEY': 1, 'ALL': 2, 'MFGP': 6, 'ELY': 19, 'AZNCF': 1, 'SGMO': 4, 'GOLF': 8, 'PIRRQ': 1, 'AAXN': 6, 'GLW': 9, 'FCC': 2, 'BJS': 3, 'ARKK': 4, 'AARK': 1, 'UMC': 3, 'SOXL': 1, 'FEDEX': 1, 'FUPA': 7, 'MSNVF': 4, 'MRS': 1, 'AMERI': 1, 'QEBR': 3, 'TQQQ': 32, 'HHC': 2, 'TPTW': 2, 'LOW': 15, 'NTNX': 4, 'KGKG': 2, 'DANSK': 1, 'ADSW': 1, 'MCHP': 2, 'EMN': 2, 'PRI': 1, 'AEP': 4, 'HLF': 1, 'RNG': 2, 'AAP': 7, 'CAR': 8, 'NVAS': 1, 'AVYA': 2, 'VUSTX': 1, 'COTY': 7, 'SDS': 7, 'SHORT': 2, 'FDP': 1, 'TEUM': 1, 'FAMIL': 2, 'KAREN': 4, 'HAROL': 2, 'INPX': 2, 'EWY': 21, 'SSNLF': 1, 'UWT': 7, 'RUBI': 2, 'TLRA': 2, 'RIOT': 2, 'APLS': 6, 'AIMT': 14, 'TONKS': 7, 'BORIS': 2, 'HWC': 2, 'DISN': 1, 'CRC': 7, 'RRC': 4, 'PPG': 1, 'WNS': 1, 'CSX': 4, 'SCHW': 2, 'OGI': 1, 'EGBN': 1, 'OZK': 1, 'BEDU': 1, 'PBCT': 2, 'FHN': 1, 'INDB': 1, 'VOLT': 1, 'BMTC': 1, 'TSCO': 3, 'URMOM': 1, 'ZNO': 1, 'RIG': 1, 'MAXR': 6, 'HMMJ': 1, 'COKE': 3, 'SOY': 1, 'BBW': 8, 'BCKY': 1, 'WCD': 1, 'EADSY': 1, 'AIR': 9, 'CYBR': 7, 'NLOK': 7, 'NOC': 7, 'NIU': 4, 'PRU': 2, 'KMI': 1, 'MBWM': 1, 'AMTD': 3, 'FNB': 1, 'SBNY': 1, 'RCI': 2, 'AUB': 1, 'NAVI': 1, 'NTRS': 1, 'ZION': 1, 'TLSA': 1, 'AGRX': 2, 'APPLE': 3, 'APT': 40, 'NVS': 5, 'PAAL': 2, 'PPLT': 1, 'SUPER': 2, 'EPZM': 2, 'SPCEP': 2, 'SPCEC': 1, 'CNSL': 1, 'MDT': 10, 'RUT': 1, 'SAMBA': 1, 'DHI': 4, 'UTX': 3, 'NURO': 3, 'HMST': 3, 'XLNX': 9, 'ARNC': 3, 'PHM': 5, 'NVR': 3, 'SALT': 4, 'NOW': 7, 'NUE': 5, 'MPC': 2, 'TCF': 2, 'ZNH': 2, 'FXI': 6, 'MAGA': 2, 'YINN': 3, 'HRL': 4, 'DBK': 1, 'REYN': 2, 'CSPR': 3, 'UDOW': 1, 'SSO': 1, 'NXPI': 3, 'REAL': 3, 'BMY': 2, 'IRBT': 6, 'CNC': 2, 'SIRI': 12, 'ABG': 3, 'LITE': 2, 'CTLT': 3, 'NSSC': 3, 'ACM': 3, 'GOOS': 10, 'SAIA': 3, 'DSPG': 3, 'COP': 2, 'AMG': 3, 'PLUS': 3, 'MCK': 4, 'STOK': 4, 'BIKE': 1, 'ELON': 1, 'JNUG': 25, 'ITCI': 15, 'WELL': 12, 'TTCM': 1, 'TKKS': 2, 'ATNM': 2, 'BBC': 2, 'KRTX': 1, 'RVLV': 6, 'BYDDF': 1, 'MICKE': 1, 'PRPL': 3, 'JOE': 1, 'JMIA': 11, 'LIME': 1, 'BAM': 2, 'KIRK': 1, 'PALL': 2, 'NEP': 1, 'APD': 1, 'SNV': 1, 'HRC': 3, 'IBKC': 1, 'MOG': 1, 'SIFY': 1, 'SPFI': 1, 'ESXB': 1, 'XXX': 5, 'PCSO': 1, 'BOOME': 2, 'BKD': 3, 'BAT': 1, 'SNKE': 1, 'NAV': 15, 'KODK': 1, 'CURE': 1, 'LABU': 2, 'IYH': 1, 'IBB': 1, 'AGN': 3, 'MNK': 5, 'LOPE': 2, 'LEH': 1, 'FEYE': 7, 'PINE': 1, 'LUB': 1, 'DAN': 4, 'NAN': 5, 'INDA': 29, 'RICE': 4, 'BEER': 2, 'OPB': 1, 'ARLP': 2, 'PROV': 1, 'NWBI': 1, 'CLOU': 1, 'XLV': 2, 'VRM': 5, 'WSFS': 3, 'FUBO': 19, 'BABY': 1, 'GEO': 12, 'AJRD': 3, 'CRNC': 2, 'NVIDI': 1, 'RETA': 2, 'PRO': 1, 'TOMZ': 5, 'STWD': 8, 'AVLR': 1, 'SWORD': 2, 'SPWD': 1, 'OPTIO': 1, 'TME': 6, 'FSR': 18, 'MGA': 4, 'NIOS': 1, 'PDD': 3, 'OTGLY': 15, 'CBRE': 3, 'CHINA': 2, 'GIK': 9, 'TWNK': 10, 'TLS': 9, 'SPSX': 1, 'LGVW': 6, 'APPN': 20, 'PEN': 11, 'MRVI': 1, 'ARES': 2, 'JWN': 6, 'CRCK': 1, 'AVTR': 8, 'DEA': 2, 'SOLO': 1, 'UURAF': 1, 'SEARS': 40, 'MGNI': 26, 'SMWV': 1, 'HYLN': 11, 'UTZ': 4, 'ENZC': 1, 'ZOOM': 18, 'ZTNO': 1, 'MMEN': 1, 'CIIC': 15, 'NBAC': 1, 'MOTNF': 1, 'AOUT': 8, 'MOON': 7, 'DASH': 22, 'FORM': 1, 'CCC': 1, 'HITCO': 1, 'OTIS': 1, 'TCNFF': 3, 'IIPR': 1, 'TARDS': 1, 'TAN': 6, 'GRAND': 1, 'BHC': 6, 'FAN': 1, 'ZBRA': 1, 'RYCEY': 4, 'ADT': 1, 'ROST': 5, 'RTRDX': 1, 'RTRD': 9, 'LAMBO': 1, 'CIIG': 1, 'CIICW': 3, 'ROP': 1, 'RIDE': 3, 'MAR': 28, 'HLT': 13, 'BEEM': 1, 'MILLI': 1, 'OSTK': 4, 'TLOS': 1, 'SCH': 1, 'EFUEL': 1, 'DBAP': 1, 'INAQ': 5, 'SRAC': 7, 'TECS': 1, 'KOLD': 1, 'RBLX': 10, 'SSL': 2, 'THCB': 13, 'CIIB': 1, 'RGEN': 5, 'COMMU': 1, 'SHLDQ': 10, 'STMP': 28, 'SCR': 2, 'NWL': 2, 'SPACE': 4, 'EXEL': 2, 'GDRX': 4, 'BWXMF': 2, 'NAVYA': 1, 'ABX': 1, 'SFT': 3, 'WNT': 1, 'SMCI': 1, 'APL': 3, 'BNTX': 5, 'AIRB': 1, 'MOMO': 7, 'ROPEI': 2, 'DMYT': 3, 'RSI': 1, 'DOPE': 2, 'PING': 3, 'SUMO': 11, 'THCBW': 1, 'BERNA': 1, 'RETAR': 1, 'OPEN': 9, 'KDP': 3, 'SPAC': 1, 'GRA': 1, 'THETA': 1, 'CUCK': 1, 'LEAP': 2, 'BALY': 1, 'DIAP': 1, 'LYSDY': 1, 'ROBLX': 1, 'SFM': 6, 'THC': 3, 'WEN': 11, 'THCA': 2, 'MAXN': 1, 'RUN': 19, 'MDRNA': 1, 'BBY': 17, 'OOF': 1, 'LRN': 8, 'KBNT': 1, 'COVID': 6, 'PBF': 1, 'XPENG': 3, 'NOV': 1, 'DVN': 1, 'FANG': 13, 'DXC': 3, 'XRX': 1, 'LEG': 1, 'TPR': 3, 'MCPHY': 1, 'ISH': 1, 'QGN': 1, 'RAZFF': 2, 'MEG': 1, 'NGA': 11, 'TTEC': 1, 'PWR': 1, 'FNMA': 1, 'INQA': 1, 'BILL': 3, 'HUBS': 1, 'PLRT': 1, 'LGND': 4, 'VGAC': 3, 'NSL': 1, 'SPLK': 8, 'STBK': 1, 'TSLAS': 1, 'ELL': 1, 'SLD': 2, 'SPG': 19, 'VVNT': 10, 'NTAP': 3, 'UHAL': 1, 'PCALL': 1, 'BOX': 25, 'BOXS': 1, 'TWO': 1, 'PRPLS': 1, 'AMAZN': 1, 'BMW': 1, 'MSFTS': 1, 'GOOO': 1, 'ROBO': 3, 'TLRDQ': 1, 'AMAZO': 1, 'GIGAW': 1, 'CTL': 10, 'APPLT': 1, 'AROUN': 1, 'STUDE': 1, 'MANU': 4, 'PNW': 1, 'FANS': 1, 'UDON': 1, 'GNOOS': 1, 'BFA': 1, 'DNLI': 2, 'EARTH': 1, 'RLFTF': 1, 'CHG': 1, 'PSTG': 3, 'AFL': 3, 'IGEN': 1, 'RCII': 2, 'SONOS': 1, 'VSAT': 2, 'PZZA': 1, 'VALUE': 1, 'UDG': 1, 'HBI': 7, 'PLAN': 3, 'BFAM': 2, 'ICE': 4, 'INVES': 1, 'AMKR': 3, 'TMO': 3, 'ATRC': 1, 'OTRK': 9, 'HBR': 1, 'SPWR': 9, 'BTO': 1, 'WOOD': 1, 'TJX': 7, 'VMW': 2, 'CNK': 12, 'FNGU': 1, 'DLTR': 20, 'DEVAL': 1, 'GEORG': 1, 'CUATR': 1, 'DOS': 1, 'URA': 2, 'PTC': 1, 'CALLS': 5, 'CSVI': 1, 'TSLE': 1, 'DOG': 1, 'BAE': 1, 'EIX': 1, 'CALL': 1, 'AZTEF': 1, 'ALXN': 2, 'FTNT': 1, 'FBHS': 4, 'PANW': 6, 'CVLB': 1, 'SHAK': 8, 'WWW': 3, 'GELYY': 1, 'SING': 1, 'MSTX': 1, 'ATP': 1, 'ROPED': 2, 'GNRC': 4, 'EOG': 3, 'BANK': 1, 'GIGA': 3, 'DICK': 11, 'TLRD': 2, 'CMC': 10, 'CALM': 7, 'UNF': 7, 'SCHN': 7, 'AYI': 7, 'KRUS': 1, 'OILU': 4, 'KBR': 2, 'GTBIF': 4, 'MSCI': 1, 'BLUE': 2, 'FNKO': 3, 'WAR': 2, 'TGNA': 2, 'GTN': 1, 'MSG': 3, 'DUK': 13, 'KNOW': 2, 'XXXX': 1, 'WSBQ': 2, 'DJI': 1, 'MLCO': 4, 'SKF': 3, 'SPPI': 1, 'JPXN': 2, 'TOPIX': 1, 'BUNKE': 1, 'FWONK': 1, 'OMI': 1, 'CCACC': 1, 'RGR': 8, 'AOBC': 10, 'ANGER': 1, 'FRUST': 1, 'FINGE': 1, 'SCISS': 1, 'WORLD': 1, 'CODX': 22, 'LIVE': 1, 'NBEV': 4, 'CRIME': 1, 'RICK': 9, 'ALLOF': 2, 'DEATH': 3, 'VFF': 6, 'KMX': 8, 'PAYS': 11, 'TTNP': 5, 'GNLN': 6, 'CSU': 6, 'CAG': 6, 'RMBL': 7, 'GPL': 6, 'DARE': 5, 'CTEK': 6, 'CYD': 7, 'NVCN': 5, 'ICLK': 6, 'ALPN': 5, 'EAST': 5, 'SMTS': 5, 'CSSE': 5, 'LNDC': 6, 'RECN': 5, 'EDAP': 5, 'APTX': 5, 'ASND': 6, 'VRNT': 6, 'MOTS': 5, 'VERO': 5, 'GRWG': 1, 'NCAA': 2, 'GIS': 21, 'ZVO': 1, 'OSW': 2, 'CCTYQ': 1, 'EWW': 6, 'MTN': 7, 'ALGT': 3, 'XAUUS': 1, 'ERI': 2, 'BTI': 1, 'JUNG': 1, 'DIN': 2, 'RUSS': 8, 'HUMAN': 1, 'BHF': 1, 'LNC': 1, 'EWU': 5, 'SMFG': 1, 'EWI': 8, 'EXPE': 11, 'SAVE': 14, 'HIL': 1, 'EWZ': 10, 'NSC': 1, 'BXMT': 3, 'KTOS': 10, 'TTC': 2, 'KIM': 3, 'VKTX': 1, 'PUMP': 6, 'JFIN': 1, 'GWGH': 1, 'MITO': 1, 'DGAZ': 1, 'AYTU': 5, 'VCSH': 1, 'LOB': 1, 'EPR': 1, 'BEANS': 1, 'JETS': 8, 'QSTRD': 1, 'ROPEC': 1, 'EWP': 3, 'DOLLA': 1, 'LIFE': 3, 'GBUL': 1, 'HSIC': 2, 'XRAY': 4, 'YOU': 6, 'DGS': 1, 'TWENT': 1, 'HTZ': 15, 'DRYS': 1, 'MAS': 2, 'DISP': 1, 'MSFTP': 1, 'COWHI': 2, 'GPRO': 6, 'SLM': 2, 'IMAX': 12, 'BKNG': 9, 'VNQ': 1, 'SOGO': 2, 'SOHU': 2, 'BTAI': 1, 'CYOU': 1, 'MTNB': 1, 'NERV': 2, 'BEST': 2, 'NINE': 1, 'AZUL': 1, 'UNFI': 5, 'VSLR': 6, 'KLZE': 1, 'DVAX': 6, 'EXPR': 2, 'VRA': 2, 'AXSM': 1, 'CDMO': 1, 'FCX': 48, 'SHO': 3, 'OUT': 1, 'TXRH': 2, 'CHARM': 1, 'AWCI': 2, 'IEF': 1, 'RRR': 1, 'BSX': 1, 'ATHX': 1, 'TCOM': 4, 'ONTX': 5, 'CSIQ': 7, 'SCVL': 5, 'HOME': 5, 'AEYE': 6, 'RKDA': 5, 'ERJ': 7, 'OPGN': 5, 'NEOG': 6, 'HYRE': 5, 'MYOS': 6, 'LIQT': 6, 'SAIC': 6, 'SCWX': 7, 'ESLT': 7, 'VTSI': 6, 'OCGN': 5, 'QIWI': 6, 'HTHT': 5, 'CXW': 12, 'GASL': 1, 'EWC': 2, 'HMC': 5, 'CMCM': 1, 'ECOR': 1, 'DMAC': 1, 'PANL': 1, 'FENG': 1, 'CANG': 1, 'BRZU': 1, 'CPB': 12, 'ROPES': 2, 'CBOE': 3, 'FAZ': 3, 'EVERY': 2, 'OLDTR': 1, 'HSY': 1, 'LEAD': 2, 'PCTY': 1, 'CXRXF': 1, 'LOCAL': 1, 'OLLI': 7, 'IEZ': 1, 'PPH': 1, 'CANAD': 1, 'CSV': 2, 'MATW': 1, 'PLC': 1, 'DTY': 1, 'VTR': 3, 'OHI': 2, 'SHY': 4, 'OPKO': 1, 'EME': 1, 'SPXC': 1, 'LVMH': 1, 'FOO': 10, 'GILDE': 1, 'LIGMA': 1, 'IMV': 1, 'SNWV': 1, 'IMAB': 1, 'DUO': 1, 'EWQ': 2, 'XIV': 1, 'EWG': 3, 'DISH': 5, 'TFM': 1, 'WEED': 6, 'UICID': 1, 'PERU': 1, 'LLAMA': 1, 'MGY': 1, 'ASNA': 1, 'UDN': 2, 'TITN': 1, 'BITA': 1, 'CLSN': 1, 'VIOT': 2, 'MOV': 1, 'CHRA': 1, 'PLT': 22, 'ZILLO': 1, 'CYRN': 1, 'COMM': 2, 'BND': 4, 'CUCKE': 1, 'GUHRE': 1, 'PNIS': 2, 'VQT': 2, 'AAXJ': 1, 'HQY': 2, 'HUYA': 9, 'BZUN': 2, 'MUX': 4, 'MIK': 6, 'CVSI': 1, 'ACRX': 1, 'WPRT': 1, 'CPRX': 1, 'ZTO': 1, 'BAX': 2, 'DLTH': 1, 'SMAR': 2, 'WSM': 1, 'HIBB': 2, 'REI': 1, 'DBI': 1, 'CTRA': 1, 'FUJIY': 2, 'COG': 2, 'BPY': 2, 'GAP': 1, 'MLB': 1, 'NFL': 1, 'LVLT': 1, 'GAYMO': 1, 'GRNDR': 1, 'RBK': 1, 'JEQ': 1, 'BULLS': 1, 'DONPU': 1, 'ALG': 1, 'JVS': 1, 'XMAS': 1, 'MEX': 1, 'PLKI': 1, 'BUYTH': 1, 'STORM': 1, 'MFD': 1, 'NCL': 1, 'FAKE': 2, 'SDOW': 1, 'DWT': 3, 'AIG': 1, 'CCRN': 5, 'LAMR': 4, 'CLW': 2, 'CNST': 2, 'DUNKI': 1, 'TDAME': 1, 'AEO': 3, 'FLIY': 1, 'RHHBY': 5, 'CIPLA': 1, 'EWJ': 6, 'FLOW': 1, 'AMMO': 2, 'RONA': 2, 'ICIC': 1, 'HDB': 1, 'HGV': 1, 'TOL': 1, 'WAL': 1, 'HABT': 1, 'TBT': 2, 'CHE': 1, 'BURG': 2, 'DELL': 10, 'NYMT': 4, 'EFC': 1, 'CIM': 2, 'MRRL': 1, 'MORL': 1, 'SOLI': 2, 'BMCSX': 1, 'NASDX': 1, 'NVO': 1, 'WYND': 2, 'CONVE': 1, 'HOTEL': 1, 'GOVER': 2, 'SWN': 3, 'HYD': 7, 'VTEB': 1, 'MUB': 1, 'PUSH': 1, 'MCRI': 5, 'PXD': 1, 'WSBVX': 1, 'SIVB': 1, 'MCS': 2, 'INMD': 5, 'AEIS': 5, 'GRMN': 7, 'LDOS': 10, 'TSEM': 5, 'ALLE': 5, 'CEVA': 6, 'OLED': 4, 'NXRT': 5, 'BLMN': 6, 'ATH': 5, 'WIX': 6, 'CHH': 6, 'EXPD': 5, 'AKS': 5, 'SJM': 3, 'GPC': 1, 'SAH': 1, 'BCOR': 1, 'ATHM': 2, 'NHI': 1, 'IART': 1, 'ETR': 2, 'HEP': 1, 'ELAN': 1, 'JAKK': 1, 'DNOW': 1, 'THRM': 1, 'SSW': 1, 'ENBL': 2, 'ESEA': 1, 'SMP': 1, 'GLDD': 1, 'GEL': 1, 'VPG': 1, 'ONE': 1, 'BUTT': 1, 'AUD': 1, 'JUMP': 1, 'VTI': 1, 'RGLD': 1, 'DNR': 5, 'TBLT': 2, 'PSA': 2, 'BNKR': 1, 'EGO': 2, 'TAGS': 1, 'FXX': 1, 'ANGL': 1, 'LXG': 1, 'LXXGF': 2, 'LGX': 1, 'EVRI': 2, 'INST': 1, 'SPANI': 1, 'CDLX': 1, 'CST': 1, 'SKT': 3, 'IRM': 1, 'KRC': 1, 'PEAK': 6, 'DRE': 1, 'QGEN': 7, 'WHO': 1, 'BEAN': 1, 'DILDO': 1, 'KNIFE': 1, 'OVV': 1, 'ACD': 1, 'HMNY': 1, 'PEY': 2, 'PLUGG': 1, 'NMI': 1, 'DRAFT': 1, 'HIIQ': 1, 'PVAM': 2, 'JAIL': 1, 'TERP': 10, 'BEP': 4, 'EFX': 1, 'SAS': 1, 'TCO': 1, 'UAA': 5, 'MCY': 1, 'GBDC': 2, 'CNA': 1, 'EXAS': 1, 'GPN': 2, 'CRNT': 1, 'BIP': 1, 'MPAA': 1, 'LSCC': 1, 'NMM': 1, 'TIP': 1, 'DVA': 1, 'MACRO': 1, 'ATCX': 1, 'ENDP': 1, 'INTEL': 1, 'FOMO': 1, 'STNE': 3, 'BXRX': 1, 'TODAY': 5, 'FEB': 2, 'TOP': 2, 'THE': 7, 'AND': 4, 'FIRST': 1, 'WITH': 1, 'BAN': 1, 'ARE': 4, 'WHY': 1, 'FOR': 4, 'THIS': 4, 'THAT': 3, 'MARKE': 2, 'GIVIN': 2, 'ADVIC': 2, 'BASED': 2, 'OFF': 2, 'POSTS': 2, 'FINAL': 2, 'FRONT': 2, 'PEACO': 1, 'FOSL': 1, 'CUMN': 1, 'PKD': 1, 'CARG': 2, 'KOS': 2, 'ILPT': 1, 'CLVS': 1, 'TNDM': 1, 'CRI': 1, 'SPNS': 1, 'CTB': 1, 'KEYS': 2, 'INTU': 4, 'DORM': 1, 'MGI': 1, 'TOCA': 2, 'WATR': 2, 'FOOD': 2, 'AIRLI': 2, 'SEMI': 1, 'CVM': 1, 'DADDY': 1, 'VXB': 1, 'TSG': 3, 'PDYPY': 1, 'VIR': 2, 'MET': 4, 'NLCH': 1, 'KORU': 1, 'SEE': 2, 'IGT': 4, 'BYD': 2, 'SGMS': 2, 'VAC': 5, 'DESP': 2, 'TRVG': 2, 'YTRA': 1, 'HEINY': 2, 'YEEZY': 1, 'PREAD': 1, 'CANS': 2, 'EVD': 1, 'IES': 1, 'ASHR': 2, 'ENSG': 2, 'GERN': 2, 'VTIQU': 1, 'BGS': 1, 'STON': 3, 'POPE': 1, 'CUB': 1, 'LPL': 2, 'AZO': 4, 'FOLD': 2, 'OKTA': 20, 'BLDP': 2, 'CIEN': 3, 'ALBO': 2, 'ANF': 3, 'EPRT': 3, 'VIPS': 3, 'GTT': 2, 'CORE': 2, 'BNFT': 2, 'EVRG': 2, 'EGRX': 2, 'TGLS': 2, 'ATRS': 3, 'HPE': 3, 'NWN': 2, 'WVE': 3, 'WSC': 2, 'MMNFF': 1, 'CHRW': 2, 'AMRX': 3, 'CEMI': 2, 'ZTS': 4, 'SWALL': 1, 'DOOR': 2, 'TIVO': 3, 'BRO': 5, 'TCTZF': 1, 'CETX': 1, 'BLNK': 2, 'SPROU': 1, 'YCS': 1, 'DEUR': 1, 'EPF': 1, 'ARGT': 1, 'XBIT': 4, 'ADPT': 2, 'WIFE': 1, 'PGRE': 1, 'DENN': 1, 'GLOG': 2, 'TITS': 1, 'VOYA': 1, 'ENB': 1, 'YUMC': 1, 'PHO': 1, 'DLX': 2, 'GANGG': 1, 'DEMOC': 2, 'VIVE': 1, 'CHRS': 1, 'INE': 1, 'DAD': 1, 'CRNA': 1, 'SSTI': 1, 'TRUA': 1, 'COE': 3, 'ABI': 1, 'CLB': 2, 'BAYRY': 2, 'SPCES': 3, 'UVYX': 1, 'URBN': 2, 'ILMN': 2, 'WEWAN': 1, 'DECN': 2, 'CORON': 1, 'NSQ': 1, 'AUTL': 1, 'AFI': 1, 'INSW': 1, 'TGTX': 1, 'STIM': 1, 'CHFS': 1, 'MYE': 1, 'SHLO': 1, 'FOE': 1, 'SCM': 1, 'TDW': 1, 'ITMR': 1, 'NCSM': 1, 'HCM': 1, 'PKE': 1, 'KGC': 4, 'PRMD': 1, 'RUNNI': 1, 'GUTFE': 2, 'WLK': 1, 'USAC': 1, 'FELE': 1, 'JELD': 1, 'BCLI': 1, 'SITE': 1, 'UFCS': 1, 'ETFC': 1, 'TXMD': 1, 'AAN': 1, 'EPAM': 1, 'STOR': 1, 'CGEN': 1, 'RWLK': 1, 'AROC': 1, 'BRC': 1, 'PCRX': 1, 'IDCC': 1, 'TEN': 1, 'RCM': 1, 'OPI': 1, 'CSTM': 1, 'FOCS': 1, 'STFC': 1, 'TNC': 1, 'TFX': 1, 'COT': 1, 'SYNH': 1, 'IMGN': 1, 'ZLAB': 1, 'OLYMP': 1, 'AMDS': 1, 'DARWI': 1, 'VACCI': 1, 'SESN': 1, 'ZEAL': 1, 'MDGL': 1, 'WASHI': 1, 'TNX': 1, 'BIT': 1, 'STACE': 1, 'IAG': 1, 'BULLZ': 1, 'CHEWY': 2, 'AAR': 3, 'MDLO': 1, 'VIRTU': 1, 'BUY': 1, 'CLICK': 1, 'HERE': 1, 'FUCK': 1, 'RDN': 3, 'SGOL': 2, 'ADSK': 2, 'SHRMF': 1, 'USFD': 1, 'TRSSF': 1, 'CURLF': 2, 'MSOS': 1, 'HCCH': 1, 'LOAK': 1, 'LAME': 1, 'CEE': 1, 'HIMX': 5, 'ROCH': 2, 'BFT': 18, 'RPRX': 5, 'RBX': 1, 'GRN': 1, 'LAZR': 22, 'ASO': 2, 'XXII': 1, 'LILAK': 1, 'CHA': 2, 'CAH': 7, 'EQT': 1, 'PEG': 1, 'SKX': 2, 'SPT': 1, 'UMPQ': 1, 'WCN': 3, 'SWI': 4, 'GNOG': 2, 'SLX': 1, 'EBR': 3, 'AIV': 4, 'PIC': 1, 'BRKB': 2, 'BTWN': 1, 'REMX': 1, 'UGL': 1, 'WKHS': 4, 'MIDD': 7, 'EDIT': 4, 'NTLA': 2, 'FATE': 1, 'TECK': 9, 'BRKA': 1, 'WISH': 9, 'BTF': 1, 'SKLZ': 21, 'ROOT': 4, 'DSGT': 2, 'MIC': 2, 'IPO': 3, 'WOOF': 1, 'STIC': 14, 'BARK': 27, 'TRIT': 6, 'CELH': 1, 'MELVI': 1, 'SHITF': 1, 'CIGG': 1, 'ALPHA': 1, 'CAVR': 3, 'XALL': 3, 'XTRM': 1, 'SFRX': 1, 'DOCRF': 1, 'LIGA': 1, 'CTYX': 2, 'EGYF': 1, 'AIMH': 2, 'GDSI': 1, 'NNUP': 1, 'MJLB': 1, 'SOEN': 1, 'HTSC': 1, 'CSLI': 1, 'BMCS': 1, 'KNOS': 2, 'ABMC': 1, 'MKGP': 1, 'ATWT': 1, 'CORG': 1, 'ANAS': 1, 'TLOFF': 1, 'GMPW': 1, 'OATN': 1, 'BRAV': 1, 'BTRYF': 1, 'SKPO': 1, 'YALLA': 2, 'SHMP': 3, 'OZON': 1, 'MNTS': 3, 'DCBO': 1, 'PORN': 1, 'TRITI': 1, 'PLTRR': 1, 'ORANG': 1, 'SAIL': 1, 'CRMR': 1, 'GHIV': 2, 'ANB': 1, 'CDAK': 4, 'HCAC': 1, 'GOEV': 4, 'STLD': 7, 'VRNS': 3, 'CARR': 2, 'SAMA': 5, 'KPT': 1, 'DOC': 1, 'ROK': 1, 'SILV': 1, 'PYR': 2, 'VSPR': 2, 'GLSI': 1, 'ENGMF': 1, 'HZON': 1, 'ARKF': 2, 'DLT': 2, 'LSPD': 1, 'VIRGI': 1, 'BCAB': 1, 'GRAFT': 1, 'BHP': 1, 'FREQ': 1, 'TILRA': 1, 'VLDR': 12, 'ZOOX': 1, 'UPST': 3, 'ATUS': 2, 'FLEX': 2, 'YNDX': 1, 'MEGAT': 1, 'AMBA': 4, 'CLDRS': 1, 'CWHY': 1, 'FRPT': 1, 'LEMON': 1, 'LMNGF': 2, 'RMG': 1, 'INFN': 12, 'ABB': 4, 'CGX': 9, 'GDDY': 2, 'ABML': 1, 'ARK': 1, 'TSF': 1, 'SPENT': 1, 'XPOA': 1, 'PTSH': 1, 'VAR': 1, 'CERN': 2, 'TCHA': 1, 'EFLVF': 1, 'CBDD': 1, 'KANDI': 1, 'RLF': 1, 'GAINS': 1, 'CIDM': 3, 'STPK': 1, 'ACH': 1, 'SSPK': 2, 'FGGT': 1, 'KAHOO': 1, 'AMH': 2, 'TRNE': 1, 'URAGF': 7, 'CAD': 1, 'NTTHF': 1, 'ABCL': 2, 'PSEC': 2, 'ASS': 7, 'EXP': 2, 'EEM': 1, 'MMED': 4, 'MMEDF': 2, 'EXPC': 1, 'LYSCY': 1, 'TTM': 1, 'RTLR': 4, 'VNOM': 2, 'CIBR': 3, 'BAH': 3, 'LKYSF': 1, 'NPA': 1, 'IPOD': 1, 'IPOE': 1, 'IPOF': 1, 'IPOA': 1, 'HRB': 5, 'ENIA': 1, 'INVH': 1, 'RSG': 1, 'LGIQ': 2, 'CLA': 9, 'XIACF': 1, 'JNSH': 1, 'CHEGG': 1, 'CYDY': 2, 'ATK': 1, 'LLL': 1, 'VXGN': 1, 'VTIQ': 13, 'IVZ': 1, 'KEYLA': 1, 'CPE': 1, 'OAS': 2, 'ZBH': 1, 'PRTK': 1, 'ABUS': 1, 'VCTR': 1, 'NOG': 1, 'ALPMY': 1, 'GOGO': 4, 'BCRX': 1, 'TVIQ': 1, 'EGHT': 3, 'PBFX': 11, 'SYK': 2, 'VTIQW': 2, 'ZOU': 1, 'INSE': 1, 'CBL': 2, 'KMDA': 1, 'HZN': 1, 'OMP': 1, 'SNPS': 1, 'NSPR': 1, 'ISR': 1, 'EFOI': 1, 'ETM': 1, 'SRNE': 4, 'IUXX': 1, 'UPLD': 2, 'TWTO': 1, 'VERU': 7, 'RESI': 3, 'AQST': 1, 'JJSF': 2, 'CHU': 1, 'ATZ': 1, 'CWH': 6, 'NGD': 2, 'CDE': 1, 'DCAR': 1, 'RVP': 1, 'ESTC': 8, 'BNS': 2, 'PLAB': 1, 'BMO': 1, 'MGIC': 1, 'COHR': 1, 'NDOY': 1, 'CHDN': 1, 'CKLD': 2, 'NAK': 4, 'SINA': 1, 'HSBC': 1, 'VNET': 1, 'HAHA': 1, 'GCB': 1, 'FUJHY': 1, 'TESS': 1, 'HARP': 1, 'TGI': 1, 'SPYKI': 1, 'THM': 6, 'IMO': 1, 'FCAU': 1, 'AXON': 2, 'VSTO': 3, 'ENZ': 15, 'MTY': 1, 'UBS': 4, 'AVTI': 1, 'SNDX': 1, 'GAN': 5, 'ETHE': 3, 'GBTC': 1, 'ETCG': 1, 'BRKS': 2, 'MGNX': 1, 'BCDA': 1, 'SAFM': 1, 'SWCH': 2, 'SVMK': 2, 'MDLZ': 1, 'CME': 1, 'UNG': 1, 'EBON': 1, 'BOOM': 2, 'PRA': 3, 'APOP': 2, 'QID': 1, 'APOL': 1, 'TIPS': 2, 'DCX': 1, 'ESPO': 6, 'IBKR': 2, 'ZEST': 1, 'OCN': 1, 'CKED': 1, 'ZEN': 3, 'DWSH': 2, 'XLRE': 2, 'UGAZ': 2, 'GMED': 1, 'GHC': 1, 'GOL': 1, 'INEED': 1, 'DOOO': 8, 'THOR': 2, 'XRONA': 2, 'VNO': 1, 'ATSM': 1, 'FMCI': 2, 'RDWR': 1, 'HHR': 1, 'DCI': 1, 'CMD': 1, 'NGL': 1, 'ENS': 1, 'PLX': 1, 'YEXT': 1, 'UCKS': 1, 'LORL': 1, 'VYGR': 2, 'GOV': 1, 'FED': 1, 'USA': 5, 'DJT': 1, 'RST': 3, 'SIGA': 1, 'OCI': 6, 'FLXN': 2, 'ASGLY': 1, 'CHEF': 2, 'BMIX': 3, 'YCBD': 2, 'ARGGY': 1, 'SAMAW': 5, 'SPCEW': 1, 'FMCIW': 1, 'MAC': 2, 'SITC': 1, 'KRG': 1, 'HNTI': 1, 'IPA': 1, 'IPATF': 1, 'ROPEY': 1, 'AWS': 1, 'URE': 1, 'TMXN': 2, 'IAA': 1, 'MOS': 2, 'MOKE': 1, 'COPE': 1, 'DONNY': 1, 'DAR': 3, 'NWSA': 1, 'CALX': 1, 'PLBY': 1, 'LSF': 1, 'PLL': 1, 'RKADS': 1, 'WEI': 1, 'UFPI': 1, 'ATSG': 3, 'TLSS': 1, 'VUG': 1, 'UPRO': 1, 'DNKN': 6, 'EQR': 4, 'VVIX': 1, 'LMPX': 1, 'BBAM': 1, 'MSP': 1, 'DRNA': 3, 'BECN': 1, 'ENTG': 1, 'BMYR': 1, 'COVD': 1, 'ERIOU': 1, 'YCL': 1, 'SMHB': 1, 'TRUP': 1, 'SRACW': 2, 'DAO': 1, 'SONM': 1, 'PBI': 2, 'SRACU': 1, 'CREE': 1, 'CRAP': 1, 'DEDD': 1, 'NRRWF': 1, 'NUR': 1, 'LFYT': 1, 'QDEL': 1, 'CARLO': 1, 'SGLB': 2, 'VAG': 1, 'JWM': 1}\n"
     ]
    }
   ],
   "source": [
    "\"\"\"4. Create a list containing the top 15 Ticker Symbols by number of occurrences. GME should be among them. If it is not, check again your analysis and/or come talk to me. Google the top 15 symbols and find the corresponding company names. Are they known companies or not?\"\"\"\n",
    "tickers_all = wsb_subs.tickers.sum()\n",
    "\n",
    "tickers_freq = {}\n",
    "for ticker in tickers_all:\n",
    "    if ticker in tickers_freq:\n",
    "        tickers_freq[ticker] += 1\n",
    "    else:\n",
    "        tickers_freq[ticker] = 1\n",
    "\n"
   ]
  },
  {
   "cell_type": "code",
   "execution_count": 20,
   "metadata": {
    "tags": []
   },
   "outputs": [
    {
     "output_type": "stream",
     "name": "stdout",
     "text": [
      "{'SPY': 1150, 'TSLA': 988, 'SPCE': 562, 'PLTR': 394, 'MSFT': 377, 'ROPE': 359, 'AAPL': 243, 'AMZN': 230, 'NIO': 228, 'AMD': 212, 'BABA': 207, 'GME': 202, 'DIS': 169, 'WORK': 149, 'VALE': 139}\n"
     ]
    }
   ],
   "source": [
    "from operator import itemgetter \n",
    "tickers_top15 = dict(sorted(tickers_freq.items(), key = itemgetter(1), reverse = True)[:15]) \n",
    "#sorted(tickers_freq.items(), key=lambda x:x[1])\n",
    "print(tickers_top15)"
   ]
  },
  {
   "cell_type": "markdown",
   "metadata": {},
   "source": [
    "_Exercise 3: TF-IDF and the stocks discussed on r/wallstreetbets._ The goal for this exercise is to find the words charachterizing each of the stocks discussed on r/wallstreetbets. We will focus on the top 15 stocks we idenfied in Exercise 2, and we will of course use TF-IDF.\n",
    "\n",
    " \n",
    "> 1. First, check out [the wikipedia page for TF-IDF](https://en.wikipedia.org/wiki/Tf%E2%80%93idf). Explain in your own words the point of TF-IDF. \n",
    ">   * What does TF stand for? \n",
    ">   * What does IDF stand for?\n",
    ">\n",
    "> 2. Tokenize the __text__ of each submission. Create a column __tokens__ in your dataframe containing the tokens. Remember the bullets below for success.\n",
    ">   * If you dont' know what _tokenization_ means, go back and read Chapter 3 again. **The advice to go back and check Chapter 3 is valid for every cleaning step below**.\n",
    ">   * Exclude punctuation.\n",
    ">   * Exclude URLs\n",
    ">   * Exclude stop words (if you don't know what stop words are, go back and read NLPP1e again).\n",
    ">   * Exclude numbers (since they're difficult to interpret in the word cloud).\n",
    ">   * Set everything to lower case.\n",
    ">   * **Note** that none of the above has to be perfect. And there's some room for improvisation. You can try using stemming. In my own first run the results didn't look so nice, because some submissions repeat certain words again and again and again, whereas other are very short. For that reason, I decided to use the unique set of words from each submission rather than each word in proportion to how it's actually used. Choices like that are up to you.\n",
    ">\n",
    "> 3. Find submissions discussing at least one of the top 15 stocks you identified above. To do so: \n",
    "> > * Create a function that finds the intersection between a list of tokens and your list of top 15 stocks. For example, your function applied to the tokens: _\"[Here, TSLA, submission, GME]\"_ should return [\"TSLA\",\"GME\"]. (_Optional_: you can also try to included cases in which the list of tokens contains a company name among your top 15. For example the function applied to _\"[Here, Gamestop, submission]\"_ could return ['GME'].)\n",
    "> > * Create a new column _stock_ in your DataFrame, containing the output of your function applied to the _text_ column. Values in this column should be lists. \n",
    "> > * Handle cases where one post discusses more than one stock by applying the function [__explode__](https://pandas.pydata.org/pandas-docs/stable/reference/api/pandas.DataFrame.explode.html) to the _stock_ column. This will duplicate submissions associated to multiple stocks. After exploding, the values included in the _stock_ column should be strings. \n",
    "> > * Handle cases where none of the selected stocks is discussed by replacing Nan values, for example with \"Other\".\n",
    ">\n",
    "> 4. Now, we want to find out which words are important for each *stock*, so we're going to create several ***large documents, one for each stock***. Each document includes all the tokens related to the same stock. We will also have a document including discussions that do not relate to the top 15 stocks.\n",
    "> 5. Now, we're ready to calculate the TF for each word. Use the method of your choice to find the top 5 terms within __5 stocks of your choice__. \n",
    ">   * Describe similarities and differences between the stocks.\n",
    ">   * Why aren't the TFs not necessarily a good description of the stocks?\n",
    ">   * Next, we calculate IDF for every word. \n",
    ">   * What base logarithm did you use? Is that important?\n",
    "> 6. We're ready to calculate TF-IDF. Do that for the __5 stock of your choice__. \n",
    ">   * List the 10 top TF words for each stock.\n",
    ">  * List the 10 top TF-IDF words for each stock.\n",
    ">   * Are these 10 words more descriptive of the stock? If yes, what is it about IDF that makes the words more informative?"
   ]
  },
  {
   "cell_type": "code",
   "execution_count": null,
   "metadata": {},
   "outputs": [],
   "source": [
    "\"\"\"1. First, check out the wikipedia page for TF-IDF. Explain in your own words the point of TF-IDF.\n",
    "What does TF stand for?\n",
    "What does IDF stand for?\"\"\"\n",
    "\n",
    "## TF = Term-Frequency\n",
    "## IDF = Inverse Document Frequency\n"
   ]
  },
  {
   "cell_type": "code",
   "execution_count": 40,
   "metadata": {},
   "outputs": [
    {
     "output_type": "stream",
     "name": "stdout",
     "text": [
      "I read that China's response is something like [80 billion](https://www.ft.com/content/deb56f86-6515-11ea-b3f3-fe4680ea68b5) but i also read something about billion but i might mistaken that with the trade deal thing.\n['i', 'read', 'china', \"'s\", 'response', 'something', 'like', '[80', 'billion', '](https://www.ft.com/content/deb56f86-6515-11ea-b3f3-fe4680ea68b5)', 'also', 'read', 'something', 'billion', 'might', 'mistaken', 'trade', 'deal', 'thing', '.']\n"
     ]
    }
   ],
   "source": [
    "\"\"\"2. Tokenize the text of each submission. Create a column tokens in your dataframe containing the tokens. Remember the bullets below for success.\n",
    "- If you dont' know what tokenization means, go back and read Chapter 3 again. The advice to go back and check Chapter 3 is valid for every cleaning step below.\n",
    "- Exclude punctuation.\n",
    "- Exclude URLs\n",
    "- Exclude stop words (if you don't know what stop words are, go back and read NLPP1e again).\n",
    "- Exclude numbers (since they're difficult to interpret in the word cloud).\n",
    "- Set everything to lower case.\n",
    "- Note that none of the above has to be perfect. And there's some room for improvisation. You can try using stemming. In my own first run the results didn't look so nice, because some submissions repeat certain words again and again and again, whereas other are very short. For that reason, I decided to use the unique set of words from each submission rather than each word in proportion to how it's actually used. Choices like that are up to you.\"\"\"\n",
    "import nltk\n",
    "from nltk.corpus import stopwords\n",
    "stop_words = set(stopwords.words('english'))  \n",
    "\n",
    "from nltk.tokenize import RegexpTokenizer\n",
    "tokenizer = RegexpTokenizer(r'\\w+|\\$[\\d\\.]+|\\S+')\n",
    "\n",
    "def tokenize(text):\n",
    "    # Remove URL's\n",
    "    text = re.sub(r'^https?:\\/\\/.*[\\r\\n]*', '', text, flags=re.MULTILINE)\n",
    "    # Remove numbers\n",
    "    text = re.sub(\"^\\d+\\s|\\s\\d+\\s|\\s\\d+$\", \" \", text)\n",
    "    print(text)\n",
    "\n",
    "    # Tokenize and rermove punctuations\n",
    "    tokenized_text = tokenizer.tokenize(text)\n",
    "    \n",
    "\n",
    "    # Remove stopwords\n",
    "    tokenized_text = [token.lower() for token in tokenized_text if token not in stop_words]\n",
    "    \n",
    "    #re.sub(r'^https?:\\/\\/.*[\\r\\n]*', '', tokenized_text, flags=re.MULTILINE)\n",
    "    return tokenized_text\n",
    "\n",
    "\n",
    "string = \"I read that China's response is something like [80 billion](https://www.ft.com/content/deb56f86-6515-11ea-b3f3-fe4680ea68b5) but i also read something about 200 billion but i might mistaken that with the trade deal thing.\"\n",
    "\n",
    "print(tokenize(string))\n"
   ]
  },
  {
   "cell_type": "code",
   "execution_count": null,
   "metadata": {},
   "outputs": [],
   "source": [
    "\"\"\"3. Find submissions discussing at least one of the top 15 stocks you identified above. To do so:\n",
    "\n",
    "Create a function that finds the intersection between a list of tokens and your list of top 15 stocks. For example, your function applied to the tokens: \"Here, TSLA, submission, GME\" should return \"TSLA\",\"GME\". (Optional: you can also try to included cases in which the list of tokens contains a company name among your top 15. For example the function applied to \"Here, Gamestop, submission\" could return 'GME'.)\n",
    "Create a new column stock in your DataFrame, containing the output of your function applied to the text column. Values in this column should be lists.\n",
    "Handle cases where one post discusses more than one stock by applying the function explode to the stock column. This will duplicate submissions associated to multiple stocks. After exploding, the values included in the stock column should be strings.\n",
    "Handle cases where none of the selected stocks is discussed by replacing Nan values, for example with \"Other\".\"\"\"\n",
    "\n",
    "\n"
   ]
  },
  {
   "cell_type": "code",
   "execution_count": null,
   "metadata": {},
   "outputs": [],
   "source": [
    "\"\"\"4. Now, we want to find out which words are important for each stock, so we're going to create several large documents, one for each stock. Each document includes all the tokens related to the same stock. We will also have a document including discussions that do not relate to the top 15 stocks.\"\"\"\n",
    "\n"
   ]
  },
  {
   "cell_type": "code",
   "execution_count": null,
   "metadata": {},
   "outputs": [],
   "source": [
    "\"\"\"5. Now, we're ready to calculate the TF for each word. Use the method of your choice to find the top 5 terms within 5 stocks of your choice.\n",
    "Describe similarities and differences between the stocks.\n",
    "Why aren't the TFs not necessarily a good description of the stocks?\n",
    "Next, we calculate IDF for every word.\n",
    "What base logarithm did you use? Is that important?\"\"\"\n",
    "\n"
   ]
  },
  {
   "cell_type": "code",
   "execution_count": null,
   "metadata": {},
   "outputs": [],
   "source": [
    "\"\"\"6. We're ready to calculate TF-IDF. Do that for the 5 stock of your choice.\n",
    "List the 10 top TF words for each stock.\n",
    "List the 10 top TF-IDF words for each stock.\n",
    "Are these 10 words more descriptive of the stock? If yes, what is it about IDF that makes the words more informative?\"\"\"\n",
    "\n",
    "\n"
   ]
  },
  {
   "cell_type": "markdown",
   "metadata": {},
   "source": [
    " _Exercise 4: The Wordcloud_. It's time to visualize our results!\n",
    "\n",
    "> * Install the [`WordCloud`](https://pypi.org/project/wordcloud/) module. \n",
    "> * Now, create word-cloud for each stock. Feel free to make it as fancy or non-fancy as you like. \n",
    "> * Comment on the results. Are these words to be expected? Is there anything that is surprising? "
   ]
  },
  {
   "cell_type": "markdown",
   "metadata": {},
   "source": [
    "_Exercise 5: A Study Project in Computational Social Science._\n",
    "> 1. Read the [Project Assignment](https://github.com/lalessan/comsocsci2021/wiki/Project-Assignment) page, where I explain how to set up a Study Project.\n",
    "> 2. Think of a topic of interest to your would like to study using data downloaded from the Web (Wikipedia, Twitter, Reddit, Facebook, Github, other data sources...), and some of the methods we have seen in this course. \n",
    "> 3. What is the topic? \n",
    "> 4. What is the data? \n",
    "> 5. Write down 3 research questions related to your topic that you would like to investigate.\n",
    "> 6. Put together 1 slide including the answers to points 3,4,5.\n",
    "\n",
    "__Important__: This will be by no means the final choice for your Project Assignment. All I want is for you guys to start thinking about it."
   ]
  },
  {
   "cell_type": "code",
   "execution_count": null,
   "metadata": {},
   "outputs": [],
   "source": []
  }
 ],
 "metadata": {
  "anaconda-cloud": {},
  "kernelspec": {
   "display_name": "Python 3",
   "language": "python",
   "name": "python3"
  },
  "language_info": {
   "codemirror_mode": {
    "name": "ipython",
    "version": 3
   },
   "file_extension": ".py",
   "mimetype": "text/x-python",
   "name": "python",
   "nbconvert_exporter": "python",
   "pygments_lexer": "ipython3",
   "version": "3.8.5-final"
  }
 },
 "nbformat": 4,
 "nbformat_minor": 1
}