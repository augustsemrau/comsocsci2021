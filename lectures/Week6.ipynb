{
 "cells": [
  {
   "cell_type": "markdown",
   "metadata": {},
   "source": [
    "# Some important admin and homework for next time.\n",
    "\n",
    "\n",
    "1. __Important point number 1__. We are reaching the mid-term of the semester and it is time for some reflection :) I want to know from you guys how the class is going. This is super important for me to make sure that the second half of the semester goes well. Before working on the material for today, please __fill [the mid-term survery ](https://docs.google.com/forms/d/e/1FAIpQLSc79NAmXoPfYjmVyVgCDUdyK8narAOuR-CmgYhQM6h3vRZfuA/viewform?usp=sf_link)__ on Google Forms. I promise it should not take more than 5 minutes. \n",
    "\n",
    "\n",
    "2. __Important point number 2__. We are slowly approaching the time when you guys will work on your own project. There are still a couple of classes to go, but by now you have a good idea of the methods and types of questions we work with in this class. And I would like to start discussing your ideas. Make sure you __complete Exercise 5 (at the end of this notebook) before next Wednesday__. We will take some time to talk about it next time. \n"
   ]
  },
  {
   "cell_type": "markdown",
   "metadata": {},
   "source": [
    "# Overview of today's class.\n",
    "\n",
    "This week's curriculum is about text analysis. The overview is\n",
    "\n",
    "* Tricks for raw text (NLPP Chapter 3) and finding the important words in a document (TF-IDF)\n",
    "* Apply these tricks to study the content of submissions \n",
    "\n",
    "In the first part, we will take a quick tour of NLPP's chapter 3, which is boring, but an amazing resource that you'll keep returning to. Then we'll talk about how we can use simple statistics to get text to show us what it's all about. We will even do a little visualization. \n"
   ]
  },
  {
   "cell_type": "markdown",
   "metadata": {},
   "source": [
    "# Part 1 - Processing real text (from out on the inter-webs)\n",
    "\n",
    "Ok. So Chapter 3 in NLPP is all about working with text from the real world. Getting text from this internet, cleaning it, tokenizing, modifying (e.g. stemming, converting to lower case, etc) to get the text in shape to work with the NLTK tools you've already learned about - and many more. In the process we'll learn more about regular expressions, as well as unicode; something we've already been struggling with a little bit will now be explained in more detail. \n",
    "> \n",
    "> **Video lecture**: Short overview of chapter 3 + a few words about kinds of language processing that we don't address in this class. \n",
    "> "
   ]
  },
  {
   "cell_type": "code",
<<<<<<< HEAD
<<<<<<< HEAD
   "execution_count": null,
   "metadata": {},
   "outputs": [],
=======
   "execution_count": 1,
   "metadata": {},
   "outputs": [
    {
     "data": {
      "image/jpeg": "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\n",
      "text/html": [
       "\n",
       "        <iframe\n",
       "            width=\"800\"\n",
       "            height=\"450\"\n",
       "            src=\"https://www.youtube.com/embed/Rwakh-HXPJk\"\n",
       "            frameborder=\"0\"\n",
       "            allowfullscreen\n",
       "        ></iframe>\n",
       "        "
      ],
      "text/plain": [
       "<IPython.lib.display.YouTubeVideo at 0x7fc8ea795670>"
      ]
     },
     "execution_count": 1,
     "metadata": {},
     "output_type": "execute_result"
    }
   ],
>>>>>>> upstream/master
=======
   "execution_count": null,
   "metadata": {},
   "outputs": [],
>>>>>>> 46267d9edd4c66c035740e53a2b3868a2891b7f9
   "source": [
    "from IPython.display import YouTubeVideo\n",
    "YouTubeVideo(\"Rwakh-HXPJk\",width=800, height=450)"
   ]
  },
  {
   "cell_type": "markdown",
   "metadata": {},
   "source": [
    "> *Reading*: NLPP Chapter 3.1, 3.2, 3.3, 3.4, 3.5, 3.6, 3.7, 3.9, and 3.10\\. It's not important that you go in depth with everything here - the key thing is that you *know that Chapter 3 of this book exists*, and that it's a great place to return to if you're ever in need of an explanation of regular expressions, unicode, or other topics that you forget as soon as you stop using them (and don't worry, I forget about those things too)."
   ]
  },
  {
   "cell_type": "markdown",
   "metadata": {},
   "source": [
    "> _Exercise_ 1: Just a couple of examples from the book: Work through the exercises NLPP 3.12: 6, 30."
   ]
  },
  {
<<<<<<< HEAD
<<<<<<< HEAD
=======
>>>>>>> 46267d9edd4c66c035740e53a2b3868a2891b7f9
   "cell_type": "code",
   "execution_count": 11,
   "metadata": {},
   "outputs": [
    {
     "output_type": "stream",
     "name": "stdout",
     "text": [
      "*** Introductory Examples for the NLTK Book ***\n",
      "Loading text1, ..., text9 and sent1, ..., sent9\n",
      "Type the name of the text or sentence to view it.\n",
      "Type: 'texts()' or 'sents()' to list the materials.\n",
      "text1: Moby Dick by Herman Melville 1851\n",
      "text2: Sense and Sensibility by Jane Austen 1811\n",
      "text3: The Book of Genesis\n",
      "text4: Inaugural Address Corpus\n",
      "text5: Chat Corpus\n",
      "text6: Monty Python and the Holy Grail\n",
      "text7: Wall Street Journal\n",
      "text8: Personals Corpus\n",
      "text9: The Man Who Was Thursday by G . K . Chesterton 1908\n"
     ]
    }
   ],
   "source": [
    "import nltk\n",
    "from nltk.book import *"
   ]
  },
  {
   "cell_type": "code",
   "execution_count": 12,
   "metadata": {},
   "outputs": [
    {
     "output_type": "stream",
     "name": "stdout",
     "text": [
      "[a-zA-Z]+: A string that contains at least one letter, either lower or upper case.\n[A-Z][a-z]*: A string with zero or more letters in the alphabet.\np[aeiou]{,2}t: \n"
     ]
    },
    {
     "output_type": "error",
     "ename": "TypeError",
     "evalue": "re_show() missing 1 required positional argument: 'string'",
     "traceback": [
      "\u001b[0;31m---------------------------------------------------------------------------\u001b[0m",
      "\u001b[0;31mTypeError\u001b[0m                                 Traceback (most recent call last)",
      "\u001b[0;32m<ipython-input-12-92dc0a7b8fdb>\u001b[0m in \u001b[0;36m<module>\u001b[0;34m\u001b[0m\n\u001b[1;32m     35\u001b[0m \u001b[0mprint\u001b[0m\u001b[0;34m(\u001b[0m\u001b[0;34m\"p[aeiou]{,2}t: \"\u001b[0m\u001b[0;34m)\u001b[0m\u001b[0;34m\u001b[0m\u001b[0;34m\u001b[0m\u001b[0m\n\u001b[1;32m     36\u001b[0m \u001b[0;34m\u001b[0m\u001b[0m\n\u001b[0;32m---> 37\u001b[0;31m \u001b[0mnltk\u001b[0m\u001b[0;34m.\u001b[0m\u001b[0mre_show\u001b[0m\u001b[0;34m(\u001b[0m\u001b[0;34m\"[a-zA-Z]\"\u001b[0m\u001b[0;34m)\u001b[0m\u001b[0;34m\u001b[0m\u001b[0;34m\u001b[0m\u001b[0m\n\u001b[0m",
      "\u001b[0;31mTypeError\u001b[0m: re_show() missing 1 required positional argument: 'string'"
     ]
    }
   ],
   "source": [
    "\"\"\" NLPP 3.12: 6:\n",
    "Describe the class of strings matched by the following regular expressions.\n",
    "\n",
    "    [a-zA-Z]+\n",
    "    [A-Z][a-z]*\n",
    "    p[aeiou]{,2}t\n",
    "    \\d+(\\.\\d+)?\n",
    "    ([^aeiou][aeiou][^aeiou])*\n",
    "    \\w+|[^\\w\\s]+\n",
    "\n",
    "Test your answers using nltk.re_show().\"\"\"\n",
    "\n",
    "\n",
    "\"\"\"\n",
    "Operator \tBehavior\n",
    ". \tWildcard, matches any character\n",
    "^abc \tMatches some pattern abc at the start of a string\n",
    "abc$ \tMatches some pattern abc at the end of a string\n",
    "[abc] \tMatches one of a set of characters\n",
    "[A-Z0-9] \tMatches one of a range of characters\n",
    "ed|ing|s \tMatches one of the specified strings (disjunction)\n",
    "* \tZero or more of previous item, e.g. a*, [a-z]* (also known as Kleene Closure)\n",
    "+ \tOne or more of previous item, e.g. a+, [a-z]+\n",
    "? \tZero or one of the previous item (i.e. optional), e.g. a?, [a-z]?\n",
    "{n} \tExactly n repeats where n is a non-negative integer\n",
    "{n,} \tAt least n repeats\n",
    "{,n} \tNo more than n repeats\n",
    "{m,n} \tAt least m and no more than n repeats\n",
    "a(b|c)+ \tParentheses that indicate the scope of the operators\n",
    "\n",
    "\"\"\"\n",
    "\n",
    "print(\"[a-zA-Z]+: A string that contains at least one letter, either lower or upper case.\")\n",
    "print(\"[A-Z][a-z]*: A string with zero or more letters in the alphabet.\")\n",
    "print(\"p[aeiou]{,2}t: \")\n",
    "\n",
    "nltk.re_show(\"[a-zA-Z]\")\n"
   ]
  },
  {
   "cell_type": "code",
   "execution_count": 22,
   "metadata": {
    "tags": []
   },
   "outputs": [
    {
     "output_type": "stream",
     "name": "stdout",
     "text": [
      "'When I'M a Duchess,' she said to herself, (not in a very hopeful tone\nthough), 'I won't have any pepper in my kitchen AT ALL. Soup does very\nwell without--Maybe it's always pepper that makes people hot-tempered,'...\n'when i'm a duchess,' she said to herself, (not in a veri hope tone\nthough), 'I won't have ani pepper in my kitchen AT all. soup doe very\nwel without--mayb it' alway pepper that make peopl hot-tempered,'...\n'when i'm a duchess,' she said to herself, (not in a very hop tone\nthough), 'i won't hav any pep in my kitch at all. soup doe very\nwell without--maybe it's alway pep that mak peopl hot-tempered,'...\n"
     ]
    }
   ],
   "source": [
    "\"\"\"NLPP 3.12: 30:\n",
    "Use the Porter Stemmer to normalize some tokenized text, calling the stemmer on each word. Do the same thing with the Lancaster Stemmer and see if you observe any differences.\"\"\"\n",
    "\n",
    "porter = nltk.PorterStemmer()\n",
    "lancaster = nltk.LancasterStemmer()\n",
    "\n",
    "tokens = [\"'When\", \"I'M\", 'a', \"Duchess,'\", 'she', 'said', 'to', 'herself,', '(not', 'in',\n",
    "'a', 'very', 'hopeful', 'tone\\nthough),', \"'I\", \"won't\", 'have', 'any', 'pepper',\n",
    "'in', 'my', 'kitchen', 'AT', 'ALL.', 'Soup', 'does', 'very\\nwell', 'without--Maybe',\n",
    "\"it's\", 'always', 'pepper', 'that', 'makes', 'people', \"hot-tempered,'...\"]\n",
    "\n",
    "print(' '.join(tokens))\n",
    "\n",
    "tokens_porter = [porter.stem(w) for w in tokens]\n",
    "tokens_lancaster = [lancaster.stem(w) for w in tokens]\n",
    "\n",
    "print(' '.join(tokens_porter))\n",
    "print(' '.join(tokens_lancaster))\n"
   ]
  },
  {
<<<<<<< HEAD
=======
>>>>>>> upstream/master
=======
>>>>>>> 46267d9edd4c66c035740e53a2b3868a2891b7f9
   "cell_type": "markdown",
   "metadata": {},
   "source": [
    "### Prelude to part 2. -  Data.\n",
    "\n",
    "In the follwing exercises, we will study the text contained in _r/wallstreebets_ submissions. To make things a bit more exciting, we will work with \\**all** the submissions posted in 2020 in _r/wallstreebets_. As you may well guess, we will need both the title and the content of each submission.\n",
    "\n",
    "To make things a bit less tedious for you guys, I downloaded and made avaialble the data you need (you can find it [here](https://github.com/lalessan/comsocsci2021/blob/master/data/wallstreet_subs.csv.gz)). The dataset consists of all the submissions posted between January 1st and December 31st 2020 with content in English. For each submission, you have the following information: timestamp of creation (__created_utc__), __title__, textual content (__selftext__), and __score__. You are welcome to use this data. If you prefer to download your own (see optional exercise below), that's even better!! As usual, I do not expect you to find a perfect match between your data and mine. In the exercises below, I refer to this data as the \"_wallstreetbets submissions dataset_\".\n",
    "\n",
    "_Exercise (Optional)_: \n",
    "\n",
    "> * Download all submissions posted on _r/wallstreetbets_ in 2020 using [psaw](https://pypi.org/project/psaw/).\n",
<<<<<<< HEAD
    "> * For each submission, keep the title, the textual content, the score, the author, and the time of creation. \n",
=======
<<<<<<< HEAD
    "> * For each submission, keep the title, the textual content, the score, the author, and the time of creation. \n",
=======
    "> * For each submission, keep the title, the textual content, the score, and the time of creation. \n",
>>>>>>> 48752f13880a628094d7b6da120d1659ecd3af6d
>>>>>>> 46267d9edd4c66c035740e53a2b3868a2891b7f9
    "> * Remove submissions whose content has been removed, and those that are not in English. You can use the library [langdetect](https://pypi.org/project/langdetect/) to detect the language of a given text.\n",
    "\n"
   ]
  },
  {
   "cell_type": "markdown",
   "metadata": {},
   "source": [
    "# Part 2 - Words that characterize stocks discussed on r/wallstreetbets\n",
    "\n",
    "In this section, we'll begin to play around with how far we can get with simple strategies for looking at text. The video is Sune talking about a fun paper, which shows you how little is needed in order to reveal something very interesting about humans that produce text. Then, we'll use a very simple weighting scheme called TF-IDF to find the words in the reddit r/wallstreetbets submissions that charachterize different stocks. In cleaning the Reddit submissions, we'll use some of the stuff you've just read about above. Finally, we'll even visualize them in a fun little word cloud (below is what I found for the discussions around Gamestop, Microsoft, and Tesla). The wordclouds may not be immediately understandable. But if you do some research on the important words, you will find that the TF-IDF method extracts quite interesting information.\n",
    "\n",
    "<img src=\"https://github.com/lalessan/comsocsci2021/blob/master/files/wordclouds.png?raw=true\" alt=\"Drawing\" style=\"width: 1000px;\"/>\n"
   ]
  },
  {
   "cell_type": "markdown",
   "metadata": {},
   "source": [
    "> **Video lecture**: Simple methods reveal a lot. Sune talks a little bit about the paper: [Personality, Gender, and Age in the Language of Social Media: The Open-Vocabulary Approach](http://journals.plos.org/plosone/article?id=10.1371/journal.pone.0073791).  "
   ]
  },
  {
   "cell_type": "code",
<<<<<<< HEAD
<<<<<<< HEAD
=======
>>>>>>> 46267d9edd4c66c035740e53a2b3868a2891b7f9
   "execution_count": null,
   "metadata": {
    "scrolled": true
   },
   "outputs": [],
<<<<<<< HEAD
=======
   "execution_count": 2,
   "metadata": {
    "scrolled": true
   },
   "outputs": [
    {
     "data": {
      "image/jpeg": "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\n",
      "text/html": [
       "\n",
       "        <iframe\n",
       "            width=\"800\"\n",
       "            height=\"450\"\n",
       "            src=\"https://www.youtube.com/embed/wkYvdfkVmlI\"\n",
       "            frameborder=\"0\"\n",
       "            allowfullscreen\n",
       "        ></iframe>\n",
       "        "
      ],
      "text/plain": [
       "<IPython.lib.display.YouTubeVideo at 0x7fc8ea7b4a90>"
      ]
     },
     "execution_count": 2,
     "metadata": {},
     "output_type": "execute_result"
    }
   ],
>>>>>>> upstream/master
=======
>>>>>>> 46267d9edd4c66c035740e53a2b3868a2891b7f9
   "source": [
    "YouTubeVideo(\"wkYvdfkVmlI\",width=800, height=450)"
   ]
  },
  {
   "cell_type": "markdown",
   "metadata": {},
   "source": [
    "_Exercise 2: Most discussed stocks in r/wallstreebets_. GME is only one among many stocks people have discussed in _r/wallstreetbets_. In this exercise, we will find the most discussed stocks on _wallstreetbets_. Stocks are identified by their [Ticker symbol](https://en.wikipedia.org/wiki/Ticker_symbol). A Ticker symbol is nothing but a string consisting of letters and numbers, and is typically quite short. For example the Gamestop symbol is _GME_, Amazon is _AMZN_, Alphabet is _GOOGL_...\n",
    "\n",
    "> 1. To talk about a specific stock, Redditors often use the corresponding ticker symbol [preceded by the dollar sign](https://www.reddit.com/r/wallstreetbets/comments/5yvvue/why_do_you_put_a_dollar_sign_in_front_of_a_ticker/) (\\\\$GME, \\$AMZN...). Write down a [Regular Expression](https://en.wikipedia.org/wiki/Regular_expression) matching words that begin with a dollar sign \"\\\\$\". See [NLPP book, section 3.4]().\n",
    "> 2. Load the _wallstreetbets submission dataset_ as a Pandas DataFrame and create a new column containing both the title and the textual content of each submission (as one long string). We refer to this as the _text_ of the submission.\n",
    "> 3. For each submission, find all ticker symbols (those preceded by a dollar sign) contained in the _text_. Use the function [re.findall](https://docs.python.org/3/library/re.html), and the regular expression you created in point 1). Some tips for success: \n",
    "> > * Remove matches that are definetly not stock symbols (for example amounts like: \\\\$100, \\$1000k).\n",
    "> > * Convert all matches to uppercase\n",
    "> > * Remove the dollar sign at the beginning of the symbol (e.g. \\\\$gme → GME).\n",
    "> 4. Create a list containing the top 15 Ticker Symbols by number of occurrences. GME should be among them. If it is not, check again your analysis and/or come talk to me. Google the top 15 symbols and find the corresponding company names. Are they known companies or not?"
   ]
  },
  {
<<<<<<< HEAD
<<<<<<< HEAD
=======
>>>>>>> 46267d9edd4c66c035740e53a2b3868a2891b7f9
   "cell_type": "code",
<<<<<<< HEAD
   "execution_count": 34,
=======
   "execution_count": 3,
>>>>>>> 48752f13880a628094d7b6da120d1659ecd3af6d
   "metadata": {},
   "outputs": [],
   "source": [
    "import pandas as pd\n",
    "import re\n",
    "\n"
   ]
  },
  {
   "cell_type": "code",
<<<<<<< HEAD
   "execution_count": 35,
=======
   "execution_count": 4,
>>>>>>> 48752f13880a628094d7b6da120d1659ecd3af6d
   "metadata": {},
   "outputs": [],
   "source": [
    "wsb_subs = pd.read_csv('/home/augustsemrau/drive/6semester/CSS_02467/comsocsci2021/lectures/data/week6/wallstreet_subs.csv', parse_dates=['created_utc']).set_index('created_utc')"
   ]
  },
  {
   "cell_type": "code",
   "execution_count": null,
   "metadata": {},
   "outputs": [],
   "source": [
    "\"\"\"1. To talk about a specific stock, Redditors often use the corresponding ticker symbol [preceded by the dollar sign](https://www.reddit.com/r/wallstreetbets/comments/5yvvue/why_do_you_put_a_dollar_sign_in_front_of_a_ticker/) (\\$GME, \\$AMZN...). Write down a [Regular Expression](https://en.wikipedia.org/wiki/Regular_expression) matching words that begin with a dollar sign \"\\$\". See [NLPP book, section 3.4]().\"\"\"\n",
    "\n",
    "# A stock ticker would be [$][a-zA-Z]{3,5}\n",
    "\n"
   ]
  },
  {
   "cell_type": "code",
<<<<<<< HEAD
   "execution_count": 36,
=======
   "execution_count": 6,
>>>>>>> 48752f13880a628094d7b6da120d1659ecd3af6d
   "metadata": {},
   "outputs": [],
   "source": [
    "\"\"\"2. Load the _wallstreetbets submission dataset_ as a Pandas DataFrame and create a new column containing both the title and the textual content of each submission (as one long string). We refer to this as the _text_ of the submission.\"\"\"\n",
    "\n",
    "wsb_subs['text'] = wsb_subs['title'] + ' ' + wsb_subs['selftext']\n"
   ]
  },
  {
   "cell_type": "code",
<<<<<<< HEAD
   "execution_count": 37,
=======
   "execution_count": 7,
>>>>>>> 48752f13880a628094d7b6da120d1659ecd3af6d
   "metadata": {
    "tags": []
   },
   "outputs": [],
   "source": [
    "\"\"\"3. For each submission, find all ticker symbols (those preceded by a dollar sign) contained in the _text_. Use the function [re.findall](https://docs.python.org/3/library/re.html), and the regular expression you created in point 1). Some tips for success: \n",
    "> > * Remove matches that are definetly not stock symbols (for example amounts like: \\\\$100, \\$1000k).\n",
    "> > * Convert all matches to uppercase\n",
    "> > * Remove the dollar sign at the beginning of the symbol (e.g. \\\\$gme → GME).\"\"\"\n",
    "\n",
    "\n",
    "\n",
    "def find_ticker(string):\n",
    "    ticker = re.findall(r'[$][A-Za-z]{3,5}', string)\n",
    "    # if ticker != []:\n",
    "    #     print(ticker)\n",
    "    ticker = [x.upper()[1:] for x in ticker]\n",
    "    return ticker\n",
    "\n",
    "wsb_subs['tickers'] = wsb_subs.text.apply(find_ticker)\n",
    "# print(wsb_subs.iloc[-1])\n",
    "wsb_subs.to_csv('/home/augustsemrau/drive/6semester/CSS_02467/comsocsci2021/lectures/data/week6/wsb_subs.csv')\n"
   ]
  },
  {
   "cell_type": "code",
<<<<<<< HEAD
   "execution_count": 38,
   "metadata": {
    "tags": []
   },
   "outputs": [],
=======
   "execution_count": 9,
   "metadata": {
    "tags": [
     "outputPrepend"
    ]
   },
   "outputs": [
    {
     "output_type": "stream",
     "name": "stdout",
     "text": [
      ", 'MCF': 1, 'BWAY': 6, 'SNX': 7, 'GMS': 1, 'WOR': 7, 'QMCO': 1, 'AFMD': 1, 'EPAC': 1, 'WUBA': 1, 'USAT': 2, 'PDCO': 2, 'APOG': 9, 'PRGS': 7, 'FUL': 1, 'AEMD': 1, 'AIH': 1, 'YRD': 1, 'STAF': 1, 'UFAB': 2, 'CAMP': 1, 'WRTC': 1, 'LHA': 1, 'SPXS': 18, 'WMT': 64, 'IVR': 1, 'FILE': 5, 'PREIX': 1, 'NVTA': 15, 'RDS': 1, 'DFEN': 4, 'NRZ': 4, 'BXP': 3, 'FREE': 2, 'HRTX': 9, 'PHIA': 1, 'NVAX': 38, 'STRIK': 1, 'EROS': 3, 'PLNT': 13, 'BYOCH': 1, 'TLDR': 2, 'KRNT': 1, 'CRSP': 9, 'UCO': 4, 'CPRI': 1, 'YUM': 10, 'REGI': 1, 'VWAGY': 3, 'LAZYW': 1, 'XRT': 2, 'QUICK': 1, 'PIZZA': 1, 'PAPA': 2, 'DOMIN': 1, 'LITTL': 1, 'ELIOS': 1, 'NOTDE': 1, 'VSLA': 2, 'MDB': 7, 'WAFU': 1, 'CHD': 3, 'ORI': 1, 'ICLN': 31, 'RKT': 87, 'CROWD': 1, 'GRNVR': 2, 'NNOX': 10, 'DORIT': 2, 'BAND': 10, 'API': 8, 'ASML': 5, 'XPEV': 29, 'CRM': 92, 'ELEVE': 1, 'SPSC': 1, 'CVAC': 3, 'IQV': 1, 'SABR': 6, 'FIVN': 4, 'IPOC': 6, 'IPOB': 22, 'MCOA': 1, 'CLDR': 12, 'AUPH': 4, 'BIG': 19, 'SLQT': 3, 'BLCT': 1, 'MLHR': 3, 'OLN': 2, 'VALE': 139, 'COSTC': 1, 'CHL': 3, 'CROX': 26, 'BOTZ': 3, 'FDN': 1, 'XLK': 4, 'PBW': 2, 'HON': 10, 'QRTEA': 3, 'SCS': 7, 'WEAT': 3, 'SOYB': 3, 'CANE': 1, 'CMPS': 10, 'CBRL': 5, 'HORTI': 1, 'CAE': 1, 'AWK': 4, 'DHR': 6, 'XYL': 1, 'ECL': 6, 'CBT': 1, 'SPAK': 1, 'MCAC': 2, 'GDOT': 1, 'LYSCF': 1, 'FVAC': 10, 'ESGC': 2, 'BRK': 26, 'UHS': 2, 'TEF': 1, 'VEON': 1, 'CRSR': 38, 'LOGI': 25, 'GWPH': 3, 'CRON': 10, 'SLV': 73, 'RXT': 7, 'AKBA': 2, 'FEAC': 9, 'SONO': 14, 'YETI': 10, 'BILI': 19, 'KCAC': 4, 'TPII': 7, 'AVGO': 6, 'NCNO': 6, 'VEEV': 7, 'STONK': 3, 'CMCS': 1, 'MSGE': 2, 'MSGS': 1, 'BIGC': 7, 'SDGR': 3, 'HUNGR': 1, 'WKSP': 1, 'EBS': 1, 'VIRT': 33, 'TOCKS': 1, 'TSLAC': 1, 'LEN': 3, 'ORCL': 13, 'TCEHY': 6, 'KNR': 1, 'KNRLF': 1, 'WACQ': 1, 'WACQW': 1, 'FUQU': 1, 'BMRG': 1, 'SEDG': 9, 'FSLR': 9, 'RDY': 5, 'AMWL': 4, 'IPBO': 1, 'CUM': 2, 'PAND': 1, 'PCEF': 1, 'KODAK': 2, 'OUCH': 1, 'LIT': 10, 'WEGE': 1, 'XYLEB': 1, 'NIKOL': 2, 'TESLA': 7, 'BOOZE': 1, 'GUN': 1, 'BEKE': 2, 'NCHL': 2, 'FUSE': 5, 'ALB': 5, 'NESN': 1, 'SMSN': 1, 'ULVR': 2, 'BMYRT': 2, 'CBAT': 2, 'SUNW': 1, 'SPI': 1, 'OXBR': 1, 'LUMN': 23, 'SUN': 4, 'NIKL': 1, 'NIKE': 2, 'TAK': 5, 'PSSYD': 1, 'POOL': 2, 'BALL': 1, 'ILCN': 1, 'ACI': 15, 'TRQ': 2, 'UNDR': 3, 'DXCM': 12, 'PAST': 1, 'ABNB': 16, 'IMMU': 1, 'IAU': 4, 'TDA': 1, 'HNCKF': 1, 'BKR': 2, 'ARKW': 3, 'ARKQ': 1, 'ACES': 1, 'TXT': 1, 'BOLT': 1, 'ASAN': 5, 'SWBI': 16, 'NUKES': 2, 'MUSK': 1, 'FLR': 9, 'SUM': 1, 'CBAK': 1, 'SCAM': 1, 'ASPU': 1, 'HELE': 2, 'AZZ': 2, 'MARK': 5, 'SAR': 2, 'JMDA': 1, 'CPST': 1, 'SEA': 2, 'POST': 1, 'TWOU': 26, 'DOGE': 1, 'ADD': 1, 'VOLD': 1, 'TICK': 3, 'BLL': 1, 'CAJ': 2, 'BURL': 11, 'WDAY': 16, 'TMF': 1, 'DKNGZ': 1, 'BRR': 1, 'LKQ': 1, 'TER': 7, 'TAP': 4, 'STM': 6, 'QSR': 7, 'APH': 4, 'UVXY': 22, 'FUSN': 1, 'PENN': 50, 'RTX': 3, 'AML': 1, 'BIOWA': 1, 'RACEW': 1, 'CRUS': 1, 'REG': 3, 'ONEM': 4, 'AUY': 14, 'HGANG': 1, 'ZUO': 20, 'DEBT': 2, 'EPD': 1, 'SIL': 2, 'DNB': 2, 'SAM': 3, 'EDTK': 3, 'EDU': 1, 'VMC': 7, 'EHTH': 3, 'HOLX': 7, 'LOGX': 1, 'FFIV': 2, 'RPD': 1, 'IPNFF': 1, 'LKNCY': 2, 'ADYYF': 1, 'PAGS': 2, 'CMCX': 1, 'BTC': 2, 'CLF': 18, 'SPHD': 2, 'IYW': 2, 'TRIN': 4, 'PASO': 5, 'POPCO': 1, 'OPK': 30, 'MONEY': 1, 'ALL': 2, 'MFGP': 6, 'ELY': 19, 'AZNCF': 1, 'SGMO': 4, 'GOLF': 8, 'PIRRQ': 1, 'AAXN': 6, 'GLW': 9, 'FCC': 2, 'BJS': 3, 'ARKK': 4, 'AARK': 1, 'UMC': 3, 'SOXL': 1, 'FEDEX': 1, 'FUPA': 7, 'MSNVF': 4, 'MRS': 1, 'AMERI': 1, 'QEBR': 3, 'TQQQ': 32, 'HHC': 2, 'TPTW': 2, 'LOW': 15, 'NTNX': 4, 'KGKG': 2, 'DANSK': 1, 'ADSW': 1, 'MCHP': 2, 'EMN': 2, 'PRI': 1, 'AEP': 4, 'HLF': 1, 'RNG': 2, 'AAP': 7, 'CAR': 8, 'NVAS': 1, 'AVYA': 2, 'VUSTX': 1, 'COTY': 7, 'SDS': 7, 'SHORT': 2, 'FDP': 1, 'TEUM': 1, 'FAMIL': 2, 'KAREN': 4, 'HAROL': 2, 'INPX': 2, 'EWY': 21, 'SSNLF': 1, 'UWT': 7, 'RUBI': 2, 'TLRA': 2, 'RIOT': 2, 'APLS': 6, 'AIMT': 14, 'TONKS': 7, 'BORIS': 2, 'HWC': 2, 'DISN': 1, 'CRC': 7, 'RRC': 4, 'PPG': 1, 'WNS': 1, 'CSX': 4, 'SCHW': 2, 'OGI': 1, 'EGBN': 1, 'OZK': 1, 'BEDU': 1, 'PBCT': 2, 'FHN': 1, 'INDB': 1, 'VOLT': 1, 'BMTC': 1, 'TSCO': 3, 'URMOM': 1, 'ZNO': 1, 'RIG': 1, 'MAXR': 6, 'HMMJ': 1, 'COKE': 3, 'SOY': 1, 'BBW': 8, 'BCKY': 1, 'WCD': 1, 'EADSY': 1, 'AIR': 9, 'CYBR': 7, 'NLOK': 7, 'NOC': 7, 'NIU': 4, 'PRU': 2, 'KMI': 1, 'MBWM': 1, 'AMTD': 3, 'FNB': 1, 'SBNY': 1, 'RCI': 2, 'AUB': 1, 'NAVI': 1, 'NTRS': 1, 'ZION': 1, 'TLSA': 1, 'AGRX': 2, 'APPLE': 3, 'APT': 40, 'NVS': 5, 'PAAL': 2, 'PPLT': 1, 'SUPER': 2, 'EPZM': 2, 'SPCEP': 2, 'SPCEC': 1, 'CNSL': 1, 'MDT': 10, 'RUT': 1, 'SAMBA': 1, 'DHI': 4, 'UTX': 3, 'NURO': 3, 'HMST': 3, 'XLNX': 9, 'ARNC': 3, 'PHM': 5, 'NVR': 3, 'SALT': 4, 'NOW': 7, 'NUE': 5, 'MPC': 2, 'TCF': 2, 'ZNH': 2, 'FXI': 6, 'MAGA': 2, 'YINN': 3, 'HRL': 4, 'DBK': 1, 'REYN': 2, 'CSPR': 3, 'UDOW': 1, 'SSO': 1, 'NXPI': 3, 'REAL': 3, 'BMY': 2, 'IRBT': 6, 'CNC': 2, 'SIRI': 12, 'ABG': 3, 'LITE': 2, 'CTLT': 3, 'NSSC': 3, 'ACM': 3, 'GOOS': 10, 'SAIA': 3, 'DSPG': 3, 'COP': 2, 'AMG': 3, 'PLUS': 3, 'MCK': 4, 'STOK': 4, 'BIKE': 1, 'ELON': 1, 'JNUG': 25, 'ITCI': 15, 'WELL': 12, 'TTCM': 1, 'TKKS': 2, 'ATNM': 2, 'BBC': 2, 'KRTX': 1, 'RVLV': 6, 'BYDDF': 1, 'MICKE': 1, 'PRPL': 3, 'JOE': 1, 'JMIA': 11, 'LIME': 1, 'BAM': 2, 'KIRK': 1, 'PALL': 2, 'NEP': 1, 'APD': 1, 'SNV': 1, 'HRC': 3, 'IBKC': 1, 'MOG': 1, 'SIFY': 1, 'SPFI': 1, 'ESXB': 1, 'XXX': 5, 'PCSO': 1, 'BOOME': 2, 'BKD': 3, 'BAT': 1, 'SNKE': 1, 'NAV': 15, 'KODK': 1, 'CURE': 1, 'LABU': 2, 'IYH': 1, 'IBB': 1, 'AGN': 3, 'MNK': 5, 'LOPE': 2, 'LEH': 1, 'FEYE': 7, 'PINE': 1, 'LUB': 1, 'DAN': 4, 'NAN': 5, 'INDA': 29, 'RICE': 4, 'BEER': 2, 'OPB': 1, 'ARLP': 2, 'PROV': 1, 'NWBI': 1, 'CLOU': 1, 'XLV': 2, 'VRM': 5, 'WSFS': 3, 'FUBO': 19, 'BABY': 1, 'GEO': 12, 'AJRD': 3, 'CRNC': 2, 'NVIDI': 1, 'RETA': 2, 'PRO': 1, 'TOMZ': 5, 'STWD': 8, 'AVLR': 1, 'SWORD': 2, 'SPWD': 1, 'OPTIO': 1, 'TME': 6, 'FSR': 18, 'MGA': 4, 'NIOS': 1, 'PDD': 3, 'OTGLY': 15, 'CBRE': 3, 'CHINA': 2, 'GIK': 9, 'TWNK': 10, 'TLS': 9, 'SPSX': 1, 'LGVW': 6, 'APPN': 20, 'PEN': 11, 'MRVI': 1, 'ARES': 2, 'JWN': 6, 'CRCK': 1, 'AVTR': 8, 'DEA': 2, 'SOLO': 1, 'UURAF': 1, 'SEARS': 40, 'MGNI': 26, 'SMWV': 1, 'HYLN': 11, 'UTZ': 4, 'ENZC': 1, 'ZOOM': 18, 'ZTNO': 1, 'MMEN': 1, 'CIIC': 15, 'NBAC': 1, 'MOTNF': 1, 'AOUT': 8, 'MOON': 7, 'DASH': 22, 'FORM': 1, 'CCC': 1, 'HITCO': 1, 'OTIS': 1, 'TCNFF': 3, 'IIPR': 1, 'TARDS': 1, 'TAN': 6, 'GRAND': 1, 'BHC': 6, 'FAN': 1, 'ZBRA': 1, 'RYCEY': 4, 'ADT': 1, 'ROST': 5, 'RTRDX': 1, 'RTRD': 9, 'LAMBO': 1, 'CIIG': 1, 'CIICW': 3, 'ROP': 1, 'RIDE': 3, 'MAR': 28, 'HLT': 13, 'BEEM': 1, 'MILLI': 1, 'OSTK': 4, 'TLOS': 1, 'SCH': 1, 'EFUEL': 1, 'DBAP': 1, 'INAQ': 5, 'SRAC': 7, 'TECS': 1, 'KOLD': 1, 'RBLX': 10, 'SSL': 2, 'THCB': 13, 'CIIB': 1, 'RGEN': 5, 'COMMU': 1, 'SHLDQ': 10, 'STMP': 28, 'SCR': 2, 'NWL': 2, 'SPACE': 4, 'EXEL': 2, 'GDRX': 4, 'BWXMF': 2, 'NAVYA': 1, 'ABX': 1, 'SFT': 3, 'WNT': 1, 'SMCI': 1, 'APL': 3, 'BNTX': 5, 'AIRB': 1, 'MOMO': 7, 'ROPEI': 2, 'DMYT': 3, 'RSI': 1, 'DOPE': 2, 'PING': 3, 'SUMO': 11, 'THCBW': 1, 'BERNA': 1, 'RETAR': 1, 'OPEN': 9, 'KDP': 3, 'SPAC': 1, 'GRA': 1, 'THETA': 1, 'CUCK': 1, 'LEAP': 2, 'BALY': 1, 'DIAP': 1, 'LYSDY': 1, 'ROBLX': 1, 'SFM': 6, 'THC': 3, 'WEN': 11, 'THCA': 2, 'MAXN': 1, 'RUN': 19, 'MDRNA': 1, 'BBY': 17, 'OOF': 1, 'LRN': 8, 'KBNT': 1, 'COVID': 6, 'PBF': 1, 'XPENG': 3, 'NOV': 1, 'DVN': 1, 'FANG': 13, 'DXC': 3, 'XRX': 1, 'LEG': 1, 'TPR': 3, 'MCPHY': 1, 'ISH': 1, 'QGN': 1, 'RAZFF': 2, 'MEG': 1, 'NGA': 11, 'TTEC': 1, 'PWR': 1, 'FNMA': 1, 'INQA': 1, 'BILL': 3, 'HUBS': 1, 'PLRT': 1, 'LGND': 4, 'VGAC': 3, 'NSL': 1, 'SPLK': 8, 'STBK': 1, 'TSLAS': 1, 'ELL': 1, 'SLD': 2, 'SPG': 19, 'VVNT': 10, 'NTAP': 3, 'UHAL': 1, 'PCALL': 1, 'BOX': 25, 'BOXS': 1, 'TWO': 1, 'PRPLS': 1, 'AMAZN': 1, 'BMW': 1, 'MSFTS': 1, 'GOOO': 1, 'ROBO': 3, 'TLRDQ': 1, 'AMAZO': 1, 'GIGAW': 1, 'CTL': 10, 'APPLT': 1, 'AROUN': 1, 'STUDE': 1, 'MANU': 4, 'PNW': 1, 'FANS': 1, 'UDON': 1, 'GNOOS': 1, 'BFA': 1, 'DNLI': 2, 'EARTH': 1, 'RLFTF': 1, 'CHG': 1, 'PSTG': 3, 'AFL': 3, 'IGEN': 1, 'RCII': 2, 'SONOS': 1, 'VSAT': 2, 'PZZA': 1, 'VALUE': 1, 'UDG': 1, 'HBI': 7, 'PLAN': 3, 'BFAM': 2, 'ICE': 4, 'INVES': 1, 'AMKR': 3, 'TMO': 3, 'ATRC': 1, 'OTRK': 9, 'HBR': 1, 'SPWR': 9, 'BTO': 1, 'WOOD': 1, 'TJX': 7, 'VMW': 2, 'CNK': 12, 'FNGU': 1, 'DLTR': 20, 'DEVAL': 1, 'GEORG': 1, 'CUATR': 1, 'DOS': 1, 'URA': 2, 'PTC': 1, 'CALLS': 5, 'CSVI': 1, 'TSLE': 1, 'DOG': 1, 'BAE': 1, 'EIX': 1, 'CALL': 1, 'AZTEF': 1, 'ALXN': 2, 'FTNT': 1, 'FBHS': 4, 'PANW': 6, 'CVLB': 1, 'SHAK': 8, 'WWW': 3, 'GELYY': 1, 'SING': 1, 'MSTX': 1, 'ATP': 1, 'ROPED': 2, 'GNRC': 4, 'EOG': 3, 'BANK': 1, 'GIGA': 3, 'DICK': 11, 'TLRD': 2, 'CMC': 10, 'CALM': 7, 'UNF': 7, 'SCHN': 7, 'AYI': 7, 'KRUS': 1, 'OILU': 4, 'KBR': 2, 'GTBIF': 4, 'MSCI': 1, 'BLUE': 2, 'FNKO': 3, 'WAR': 2, 'TGNA': 2, 'GTN': 1, 'MSG': 3, 'DUK': 13, 'KNOW': 2, 'XXXX': 1, 'WSBQ': 2, 'DJI': 1, 'MLCO': 4, 'SKF': 3, 'SPPI': 1, 'JPXN': 2, 'TOPIX': 1, 'BUNKE': 1, 'FWONK': 1, 'OMI': 1, 'CCACC': 1, 'RGR': 8, 'AOBC': 10, 'ANGER': 1, 'FRUST': 1, 'FINGE': 1, 'SCISS': 1, 'WORLD': 1, 'CODX': 22, 'LIVE': 1, 'NBEV': 4, 'CRIME': 1, 'RICK': 9, 'ALLOF': 2, 'DEATH': 3, 'VFF': 6, 'KMX': 8, 'PAYS': 11, 'TTNP': 5, 'GNLN': 6, 'CSU': 6, 'CAG': 6, 'RMBL': 7, 'GPL': 6, 'DARE': 5, 'CTEK': 6, 'CYD': 7, 'NVCN': 5, 'ICLK': 6, 'ALPN': 5, 'EAST': 5, 'SMTS': 5, 'CSSE': 5, 'LNDC': 6, 'RECN': 5, 'EDAP': 5, 'APTX': 5, 'ASND': 6, 'VRNT': 6, 'MOTS': 5, 'VERO': 5, 'GRWG': 1, 'NCAA': 2, 'GIS': 21, 'ZVO': 1, 'OSW': 2, 'CCTYQ': 1, 'EWW': 6, 'MTN': 7, 'ALGT': 3, 'XAUUS': 1, 'ERI': 2, 'BTI': 1, 'JUNG': 1, 'DIN': 2, 'RUSS': 8, 'HUMAN': 1, 'BHF': 1, 'LNC': 1, 'EWU': 5, 'SMFG': 1, 'EWI': 8, 'EXPE': 11, 'SAVE': 14, 'HIL': 1, 'EWZ': 10, 'NSC': 1, 'BXMT': 3, 'KTOS': 10, 'TTC': 2, 'KIM': 3, 'VKTX': 1, 'PUMP': 6, 'JFIN': 1, 'GWGH': 1, 'MITO': 1, 'DGAZ': 1, 'AYTU': 5, 'VCSH': 1, 'LOB': 1, 'EPR': 1, 'BEANS': 1, 'JETS': 8, 'QSTRD': 1, 'ROPEC': 1, 'EWP': 3, 'DOLLA': 1, 'LIFE': 3, 'GBUL': 1, 'HSIC': 2, 'XRAY': 4, 'YOU': 6, 'DGS': 1, 'TWENT': 1, 'HTZ': 15, 'DRYS': 1, 'MAS': 2, 'DISP': 1, 'MSFTP': 1, 'COWHI': 2, 'GPRO': 6, 'SLM': 2, 'IMAX': 12, 'BKNG': 9, 'VNQ': 1, 'SOGO': 2, 'SOHU': 2, 'BTAI': 1, 'CYOU': 1, 'MTNB': 1, 'NERV': 2, 'BEST': 2, 'NINE': 1, 'AZUL': 1, 'UNFI': 5, 'VSLR': 6, 'KLZE': 1, 'DVAX': 6, 'EXPR': 2, 'VRA': 2, 'AXSM': 1, 'CDMO': 1, 'FCX': 48, 'SHO': 3, 'OUT': 1, 'TXRH': 2, 'CHARM': 1, 'AWCI': 2, 'IEF': 1, 'RRR': 1, 'BSX': 1, 'ATHX': 1, 'TCOM': 4, 'ONTX': 5, 'CSIQ': 7, 'SCVL': 5, 'HOME': 5, 'AEYE': 6, 'RKDA': 5, 'ERJ': 7, 'OPGN': 5, 'NEOG': 6, 'HYRE': 5, 'MYOS': 6, 'LIQT': 6, 'SAIC': 6, 'SCWX': 7, 'ESLT': 7, 'VTSI': 6, 'OCGN': 5, 'QIWI': 6, 'HTHT': 5, 'CXW': 12, 'GASL': 1, 'EWC': 2, 'HMC': 5, 'CMCM': 1, 'ECOR': 1, 'DMAC': 1, 'PANL': 1, 'FENG': 1, 'CANG': 1, 'BRZU': 1, 'CPB': 12, 'ROPES': 2, 'CBOE': 3, 'FAZ': 3, 'EVERY': 2, 'OLDTR': 1, 'HSY': 1, 'LEAD': 2, 'PCTY': 1, 'CXRXF': 1, 'LOCAL': 1, 'OLLI': 7, 'IEZ': 1, 'PPH': 1, 'CANAD': 1, 'CSV': 2, 'MATW': 1, 'PLC': 1, 'DTY': 1, 'VTR': 3, 'OHI': 2, 'SHY': 4, 'OPKO': 1, 'EME': 1, 'SPXC': 1, 'LVMH': 1, 'FOO': 10, 'GILDE': 1, 'LIGMA': 1, 'IMV': 1, 'SNWV': 1, 'IMAB': 1, 'DUO': 1, 'EWQ': 2, 'XIV': 1, 'EWG': 3, 'DISH': 5, 'TFM': 1, 'WEED': 6, 'UICID': 1, 'PERU': 1, 'LLAMA': 1, 'MGY': 1, 'ASNA': 1, 'UDN': 2, 'TITN': 1, 'BITA': 1, 'CLSN': 1, 'VIOT': 2, 'MOV': 1, 'CHRA': 1, 'PLT': 22, 'ZILLO': 1, 'CYRN': 1, 'COMM': 2, 'BND': 4, 'CUCKE': 1, 'GUHRE': 1, 'PNIS': 2, 'VQT': 2, 'AAXJ': 1, 'HQY': 2, 'HUYA': 9, 'BZUN': 2, 'MUX': 4, 'MIK': 6, 'CVSI': 1, 'ACRX': 1, 'WPRT': 1, 'CPRX': 1, 'ZTO': 1, 'BAX': 2, 'DLTH': 1, 'SMAR': 2, 'WSM': 1, 'HIBB': 2, 'REI': 1, 'DBI': 1, 'CTRA': 1, 'FUJIY': 2, 'COG': 2, 'BPY': 2, 'GAP': 1, 'MLB': 1, 'NFL': 1, 'LVLT': 1, 'GAYMO': 1, 'GRNDR': 1, 'RBK': 1, 'JEQ': 1, 'BULLS': 1, 'DONPU': 1, 'ALG': 1, 'JVS': 1, 'XMAS': 1, 'MEX': 1, 'PLKI': 1, 'BUYTH': 1, 'STORM': 1, 'MFD': 1, 'NCL': 1, 'FAKE': 2, 'SDOW': 1, 'DWT': 3, 'AIG': 1, 'CCRN': 5, 'LAMR': 4, 'CLW': 2, 'CNST': 2, 'DUNKI': 1, 'TDAME': 1, 'AEO': 3, 'FLIY': 1, 'RHHBY': 5, 'CIPLA': 1, 'EWJ': 6, 'FLOW': 1, 'AMMO': 2, 'RONA': 2, 'ICIC': 1, 'HDB': 1, 'HGV': 1, 'TOL': 1, 'WAL': 1, 'HABT': 1, 'TBT': 2, 'CHE': 1, 'BURG': 2, 'DELL': 10, 'NYMT': 4, 'EFC': 1, 'CIM': 2, 'MRRL': 1, 'MORL': 1, 'SOLI': 2, 'BMCSX': 1, 'NASDX': 1, 'NVO': 1, 'WYND': 2, 'CONVE': 1, 'HOTEL': 1, 'GOVER': 2, 'SWN': 3, 'HYD': 7, 'VTEB': 1, 'MUB': 1, 'PUSH': 1, 'MCRI': 5, 'PXD': 1, 'WSBVX': 1, 'SIVB': 1, 'MCS': 2, 'INMD': 5, 'AEIS': 5, 'GRMN': 7, 'LDOS': 10, 'TSEM': 5, 'ALLE': 5, 'CEVA': 6, 'OLED': 4, 'NXRT': 5, 'BLMN': 6, 'ATH': 5, 'WIX': 6, 'CHH': 6, 'EXPD': 5, 'AKS': 5, 'SJM': 3, 'GPC': 1, 'SAH': 1, 'BCOR': 1, 'ATHM': 2, 'NHI': 1, 'IART': 1, 'ETR': 2, 'HEP': 1, 'ELAN': 1, 'JAKK': 1, 'DNOW': 1, 'THRM': 1, 'SSW': 1, 'ENBL': 2, 'ESEA': 1, 'SMP': 1, 'GLDD': 1, 'GEL': 1, 'VPG': 1, 'ONE': 1, 'BUTT': 1, 'AUD': 1, 'JUMP': 1, 'VTI': 1, 'RGLD': 1, 'DNR': 5, 'TBLT': 2, 'PSA': 2, 'BNKR': 1, 'EGO': 2, 'TAGS': 1, 'FXX': 1, 'ANGL': 1, 'LXG': 1, 'LXXGF': 2, 'LGX': 1, 'EVRI': 2, 'INST': 1, 'SPANI': 1, 'CDLX': 1, 'CST': 1, 'SKT': 3, 'IRM': 1, 'KRC': 1, 'PEAK': 6, 'DRE': 1, 'QGEN': 7, 'WHO': 1, 'BEAN': 1, 'DILDO': 1, 'KNIFE': 1, 'OVV': 1, 'ACD': 1, 'HMNY': 1, 'PEY': 2, 'PLUGG': 1, 'NMI': 1, 'DRAFT': 1, 'HIIQ': 1, 'PVAM': 2, 'JAIL': 1, 'TERP': 10, 'BEP': 4, 'EFX': 1, 'SAS': 1, 'TCO': 1, 'UAA': 5, 'MCY': 1, 'GBDC': 2, 'CNA': 1, 'EXAS': 1, 'GPN': 2, 'CRNT': 1, 'BIP': 1, 'MPAA': 1, 'LSCC': 1, 'NMM': 1, 'TIP': 1, 'DVA': 1, 'MACRO': 1, 'ATCX': 1, 'ENDP': 1, 'INTEL': 1, 'FOMO': 1, 'STNE': 3, 'BXRX': 1, 'TODAY': 5, 'FEB': 2, 'TOP': 2, 'THE': 7, 'AND': 4, 'FIRST': 1, 'WITH': 1, 'BAN': 1, 'ARE': 4, 'WHY': 1, 'FOR': 4, 'THIS': 4, 'THAT': 3, 'MARKE': 2, 'GIVIN': 2, 'ADVIC': 2, 'BASED': 2, 'OFF': 2, 'POSTS': 2, 'FINAL': 2, 'FRONT': 2, 'PEACO': 1, 'FOSL': 1, 'CUMN': 1, 'PKD': 1, 'CARG': 2, 'KOS': 2, 'ILPT': 1, 'CLVS': 1, 'TNDM': 1, 'CRI': 1, 'SPNS': 1, 'CTB': 1, 'KEYS': 2, 'INTU': 4, 'DORM': 1, 'MGI': 1, 'TOCA': 2, 'WATR': 2, 'FOOD': 2, 'AIRLI': 2, 'SEMI': 1, 'CVM': 1, 'DADDY': 1, 'VXB': 1, 'TSG': 3, 'PDYPY': 1, 'VIR': 2, 'MET': 4, 'NLCH': 1, 'KORU': 1, 'SEE': 2, 'IGT': 4, 'BYD': 2, 'SGMS': 2, 'VAC': 5, 'DESP': 2, 'TRVG': 2, 'YTRA': 1, 'HEINY': 2, 'YEEZY': 1, 'PREAD': 1, 'CANS': 2, 'EVD': 1, 'IES': 1, 'ASHR': 2, 'ENSG': 2, 'GERN': 2, 'VTIQU': 1, 'BGS': 1, 'STON': 3, 'POPE': 1, 'CUB': 1, 'LPL': 2, 'AZO': 4, 'FOLD': 2, 'OKTA': 20, 'BLDP': 2, 'CIEN': 3, 'ALBO': 2, 'ANF': 3, 'EPRT': 3, 'VIPS': 3, 'GTT': 2, 'CORE': 2, 'BNFT': 2, 'EVRG': 2, 'EGRX': 2, 'TGLS': 2, 'ATRS': 3, 'HPE': 3, 'NWN': 2, 'WVE': 3, 'WSC': 2, 'MMNFF': 1, 'CHRW': 2, 'AMRX': 3, 'CEMI': 2, 'ZTS': 4, 'SWALL': 1, 'DOOR': 2, 'TIVO': 3, 'BRO': 5, 'TCTZF': 1, 'CETX': 1, 'BLNK': 2, 'SPROU': 1, 'YCS': 1, 'DEUR': 1, 'EPF': 1, 'ARGT': 1, 'XBIT': 4, 'ADPT': 2, 'WIFE': 1, 'PGRE': 1, 'DENN': 1, 'GLOG': 2, 'TITS': 1, 'VOYA': 1, 'ENB': 1, 'YUMC': 1, 'PHO': 1, 'DLX': 2, 'GANGG': 1, 'DEMOC': 2, 'VIVE': 1, 'CHRS': 1, 'INE': 1, 'DAD': 1, 'CRNA': 1, 'SSTI': 1, 'TRUA': 1, 'COE': 3, 'ABI': 1, 'CLB': 2, 'BAYRY': 2, 'SPCES': 3, 'UVYX': 1, 'URBN': 2, 'ILMN': 2, 'WEWAN': 1, 'DECN': 2, 'CORON': 1, 'NSQ': 1, 'AUTL': 1, 'AFI': 1, 'INSW': 1, 'TGTX': 1, 'STIM': 1, 'CHFS': 1, 'MYE': 1, 'SHLO': 1, 'FOE': 1, 'SCM': 1, 'TDW': 1, 'ITMR': 1, 'NCSM': 1, 'HCM': 1, 'PKE': 1, 'KGC': 4, 'PRMD': 1, 'RUNNI': 1, 'GUTFE': 2, 'WLK': 1, 'USAC': 1, 'FELE': 1, 'JELD': 1, 'BCLI': 1, 'SITE': 1, 'UFCS': 1, 'ETFC': 1, 'TXMD': 1, 'AAN': 1, 'EPAM': 1, 'STOR': 1, 'CGEN': 1, 'RWLK': 1, 'AROC': 1, 'BRC': 1, 'PCRX': 1, 'IDCC': 1, 'TEN': 1, 'RCM': 1, 'OPI': 1, 'CSTM': 1, 'FOCS': 1, 'STFC': 1, 'TNC': 1, 'TFX': 1, 'COT': 1, 'SYNH': 1, 'IMGN': 1, 'ZLAB': 1, 'OLYMP': 1, 'AMDS': 1, 'DARWI': 1, 'VACCI': 1, 'SESN': 1, 'ZEAL': 1, 'MDGL': 1, 'WASHI': 1, 'TNX': 1, 'BIT': 1, 'STACE': 1, 'IAG': 1, 'BULLZ': 1, 'CHEWY': 2, 'AAR': 3, 'MDLO': 1, 'VIRTU': 1, 'BUY': 1, 'CLICK': 1, 'HERE': 1, 'FUCK': 1, 'RDN': 3, 'SGOL': 2, 'ADSK': 2, 'SHRMF': 1, 'USFD': 1, 'TRSSF': 1, 'CURLF': 2, 'MSOS': 1, 'HCCH': 1, 'LOAK': 1, 'LAME': 1, 'CEE': 1, 'HIMX': 5, 'ROCH': 2, 'BFT': 18, 'RPRX': 5, 'RBX': 1, 'GRN': 1, 'LAZR': 22, 'ASO': 2, 'XXII': 1, 'LILAK': 1, 'CHA': 2, 'CAH': 7, 'EQT': 1, 'PEG': 1, 'SKX': 2, 'SPT': 1, 'UMPQ': 1, 'WCN': 3, 'SWI': 4, 'GNOG': 2, 'SLX': 1, 'EBR': 3, 'AIV': 4, 'PIC': 1, 'BRKB': 2, 'BTWN': 1, 'REMX': 1, 'UGL': 1, 'WKHS': 4, 'MIDD': 7, 'EDIT': 4, 'NTLA': 2, 'FATE': 1, 'TECK': 9, 'BRKA': 1, 'WISH': 9, 'BTF': 1, 'SKLZ': 21, 'ROOT': 4, 'DSGT': 2, 'MIC': 2, 'IPO': 3, 'WOOF': 1, 'STIC': 14, 'BARK': 27, 'TRIT': 6, 'CELH': 1, 'MELVI': 1, 'SHITF': 1, 'CIGG': 1, 'ALPHA': 1, 'CAVR': 3, 'XALL': 3, 'XTRM': 1, 'SFRX': 1, 'DOCRF': 1, 'LIGA': 1, 'CTYX': 2, 'EGYF': 1, 'AIMH': 2, 'GDSI': 1, 'NNUP': 1, 'MJLB': 1, 'SOEN': 1, 'HTSC': 1, 'CSLI': 1, 'BMCS': 1, 'KNOS': 2, 'ABMC': 1, 'MKGP': 1, 'ATWT': 1, 'CORG': 1, 'ANAS': 1, 'TLOFF': 1, 'GMPW': 1, 'OATN': 1, 'BRAV': 1, 'BTRYF': 1, 'SKPO': 1, 'YALLA': 2, 'SHMP': 3, 'OZON': 1, 'MNTS': 3, 'DCBO': 1, 'PORN': 1, 'TRITI': 1, 'PLTRR': 1, 'ORANG': 1, 'SAIL': 1, 'CRMR': 1, 'GHIV': 2, 'ANB': 1, 'CDAK': 4, 'HCAC': 1, 'GOEV': 4, 'STLD': 7, 'VRNS': 3, 'CARR': 2, 'SAMA': 5, 'KPT': 1, 'DOC': 1, 'ROK': 1, 'SILV': 1, 'PYR': 2, 'VSPR': 2, 'GLSI': 1, 'ENGMF': 1, 'HZON': 1, 'ARKF': 2, 'DLT': 2, 'LSPD': 1, 'VIRGI': 1, 'BCAB': 1, 'GRAFT': 1, 'BHP': 1, 'FREQ': 1, 'TILRA': 1, 'VLDR': 12, 'ZOOX': 1, 'UPST': 3, 'ATUS': 2, 'FLEX': 2, 'YNDX': 1, 'MEGAT': 1, 'AMBA': 4, 'CLDRS': 1, 'CWHY': 1, 'FRPT': 1, 'LEMON': 1, 'LMNGF': 2, 'RMG': 1, 'INFN': 12, 'ABB': 4, 'CGX': 9, 'GDDY': 2, 'ABML': 1, 'ARK': 1, 'TSF': 1, 'SPENT': 1, 'XPOA': 1, 'PTSH': 1, 'VAR': 1, 'CERN': 2, 'TCHA': 1, 'EFLVF': 1, 'CBDD': 1, 'KANDI': 1, 'RLF': 1, 'GAINS': 1, 'CIDM': 3, 'STPK': 1, 'ACH': 1, 'SSPK': 2, 'FGGT': 1, 'KAHOO': 1, 'AMH': 2, 'TRNE': 1, 'URAGF': 7, 'CAD': 1, 'NTTHF': 1, 'ABCL': 2, 'PSEC': 2, 'ASS': 7, 'EXP': 2, 'EEM': 1, 'MMED': 4, 'MMEDF': 2, 'EXPC': 1, 'LYSCY': 1, 'TTM': 1, 'RTLR': 4, 'VNOM': 2, 'CIBR': 3, 'BAH': 3, 'LKYSF': 1, 'NPA': 1, 'IPOD': 1, 'IPOE': 1, 'IPOF': 1, 'IPOA': 1, 'HRB': 5, 'ENIA': 1, 'INVH': 1, 'RSG': 1, 'LGIQ': 2, 'CLA': 9, 'XIACF': 1, 'JNSH': 1, 'CHEGG': 1, 'CYDY': 2, 'ATK': 1, 'LLL': 1, 'VXGN': 1, 'VTIQ': 13, 'IVZ': 1, 'KEYLA': 1, 'CPE': 1, 'OAS': 2, 'ZBH': 1, 'PRTK': 1, 'ABUS': 1, 'VCTR': 1, 'NOG': 1, 'ALPMY': 1, 'GOGO': 4, 'BCRX': 1, 'TVIQ': 1, 'EGHT': 3, 'PBFX': 11, 'SYK': 2, 'VTIQW': 2, 'ZOU': 1, 'INSE': 1, 'CBL': 2, 'KMDA': 1, 'HZN': 1, 'OMP': 1, 'SNPS': 1, 'NSPR': 1, 'ISR': 1, 'EFOI': 1, 'ETM': 1, 'SRNE': 4, 'IUXX': 1, 'UPLD': 2, 'TWTO': 1, 'VERU': 7, 'RESI': 3, 'AQST': 1, 'JJSF': 2, 'CHU': 1, 'ATZ': 1, 'CWH': 6, 'NGD': 2, 'CDE': 1, 'DCAR': 1, 'RVP': 1, 'ESTC': 8, 'BNS': 2, 'PLAB': 1, 'BMO': 1, 'MGIC': 1, 'COHR': 1, 'NDOY': 1, 'CHDN': 1, 'CKLD': 2, 'NAK': 4, 'SINA': 1, 'HSBC': 1, 'VNET': 1, 'HAHA': 1, 'GCB': 1, 'FUJHY': 1, 'TESS': 1, 'HARP': 1, 'TGI': 1, 'SPYKI': 1, 'THM': 6, 'IMO': 1, 'FCAU': 1, 'AXON': 2, 'VSTO': 3, 'ENZ': 15, 'MTY': 1, 'UBS': 4, 'AVTI': 1, 'SNDX': 1, 'GAN': 5, 'ETHE': 3, 'GBTC': 1, 'ETCG': 1, 'BRKS': 2, 'MGNX': 1, 'BCDA': 1, 'SAFM': 1, 'SWCH': 2, 'SVMK': 2, 'MDLZ': 1, 'CME': 1, 'UNG': 1, 'EBON': 1, 'BOOM': 2, 'PRA': 3, 'APOP': 2, 'QID': 1, 'APOL': 1, 'TIPS': 2, 'DCX': 1, 'ESPO': 6, 'IBKR': 2, 'ZEST': 1, 'OCN': 1, 'CKED': 1, 'ZEN': 3, 'DWSH': 2, 'XLRE': 2, 'UGAZ': 2, 'GMED': 1, 'GHC': 1, 'GOL': 1, 'INEED': 1, 'DOOO': 8, 'THOR': 2, 'XRONA': 2, 'VNO': 1, 'ATSM': 1, 'FMCI': 2, 'RDWR': 1, 'HHR': 1, 'DCI': 1, 'CMD': 1, 'NGL': 1, 'ENS': 1, 'PLX': 1, 'YEXT': 1, 'UCKS': 1, 'LORL': 1, 'VYGR': 2, 'GOV': 1, 'FED': 1, 'USA': 5, 'DJT': 1, 'RST': 3, 'SIGA': 1, 'OCI': 6, 'FLXN': 2, 'ASGLY': 1, 'CHEF': 2, 'BMIX': 3, 'YCBD': 2, 'ARGGY': 1, 'SAMAW': 5, 'SPCEW': 1, 'FMCIW': 1, 'MAC': 2, 'SITC': 1, 'KRG': 1, 'HNTI': 1, 'IPA': 1, 'IPATF': 1, 'ROPEY': 1, 'AWS': 1, 'URE': 1, 'TMXN': 2, 'IAA': 1, 'MOS': 2, 'MOKE': 1, 'COPE': 1, 'DONNY': 1, 'DAR': 3, 'NWSA': 1, 'CALX': 1, 'PLBY': 1, 'LSF': 1, 'PLL': 1, 'RKADS': 1, 'WEI': 1, 'UFPI': 1, 'ATSG': 3, 'TLSS': 1, 'VUG': 1, 'UPRO': 1, 'DNKN': 6, 'EQR': 4, 'VVIX': 1, 'LMPX': 1, 'BBAM': 1, 'MSP': 1, 'DRNA': 3, 'BECN': 1, 'ENTG': 1, 'BMYR': 1, 'COVD': 1, 'ERIOU': 1, 'YCL': 1, 'SMHB': 1, 'TRUP': 1, 'SRACW': 2, 'DAO': 1, 'SONM': 1, 'PBI': 2, 'SRACU': 1, 'CREE': 1, 'CRAP': 1, 'DEDD': 1, 'NRRWF': 1, 'NUR': 1, 'LFYT': 1, 'QDEL': 1, 'CARLO': 1, 'SGLB': 2, 'VAG': 1, 'JWM': 1}\n"
     ]
    }
   ],
>>>>>>> 48752f13880a628094d7b6da120d1659ecd3af6d
   "source": [
    "\"\"\"4. Create a list containing the top 15 Ticker Symbols by number of occurrences. GME should be among them. If it is not, check again your analysis and/or come talk to me. Google the top 15 symbols and find the corresponding company names. Are they known companies or not?\"\"\"\n",
    "tickers_all = wsb_subs.tickers.sum()\n",
    "\n",
    "tickers_freq = {}\n",
    "for ticker in tickers_all:\n",
    "    if ticker in tickers_freq:\n",
    "        tickers_freq[ticker] += 1\n",
    "    else:\n",
    "        tickers_freq[ticker] = 1\n",
    "\n"
   ]
  },
  {
   "cell_type": "code",
<<<<<<< HEAD
   "execution_count": 39,
=======
   "execution_count": 20,
>>>>>>> 48752f13880a628094d7b6da120d1659ecd3af6d
   "metadata": {
    "tags": []
   },
   "outputs": [
    {
     "output_type": "stream",
     "name": "stdout",
     "text": [
<<<<<<< HEAD
      "{'SPY': 1150, 'TSLA': 988, 'SPCE': 562, 'PLTR': 394, 'MSFT': 377, 'ROPE': 359, 'AAPL': 243, 'AMZN': 230, 'NIO': 228, 'AMD': 212, 'BABA': 207, 'GME': 202, 'DIS': 169, 'WORK': 149, 'VALE': 139}\n{'spy': 1150, 'tsla': 988, 'spce': 562, 'pltr': 394, 'msft': 377, 'rope': 359, 'aapl': 243, 'amzn': 230, 'nio': 228, 'amd': 212, 'baba': 207, 'gme': 202, 'dis': 169, 'work': 149, 'vale': 139, 'Other': []}\n"
=======
      "{'SPY': 1150, 'TSLA': 988, 'SPCE': 562, 'PLTR': 394, 'MSFT': 377, 'ROPE': 359, 'AAPL': 243, 'AMZN': 230, 'NIO': 228, 'AMD': 212, 'BABA': 207, 'GME': 202, 'DIS': 169, 'WORK': 149, 'VALE': 139}\n"
>>>>>>> 48752f13880a628094d7b6da120d1659ecd3af6d
     ]
    }
   ],
   "source": [
    "from operator import itemgetter \n",
    "tickers_top15 = dict(sorted(tickers_freq.items(), key = itemgetter(1), reverse = True)[:15]) \n",
    "#sorted(tickers_freq.items(), key=lambda x:x[1])\n",
<<<<<<< HEAD
    "print(tickers_top15)\n",
    "top_15_stocks = {ticker.lower():count for ticker,count in tickers_top15.items()}\n",
    "top_15_stocks['Other'] = []\n",
    "print(top_15_stocks)"
=======
    "print(tickers_top15)"
>>>>>>> 48752f13880a628094d7b6da120d1659ecd3af6d
   ]
  },
  {
<<<<<<< HEAD
=======
>>>>>>> upstream/master
=======
>>>>>>> 46267d9edd4c66c035740e53a2b3868a2891b7f9
   "cell_type": "markdown",
   "metadata": {},
   "source": [
    "_Exercise 3: TF-IDF and the stocks discussed on r/wallstreetbets._ The goal for this exercise is to find the words charachterizing each of the stocks discussed on r/wallstreetbets. We will focus on the top 15 stocks we idenfied in Exercise 2, and we will of course use TF-IDF.\n",
    "\n",
    " \n",
    "> 1. First, check out [the wikipedia page for TF-IDF](https://en.wikipedia.org/wiki/Tf%E2%80%93idf). Explain in your own words the point of TF-IDF. \n",
    ">   * What does TF stand for? \n",
    ">   * What does IDF stand for?\n",
    ">\n",
    "> 2. Tokenize the __text__ of each submission. Create a column __tokens__ in your dataframe containing the tokens. Remember the bullets below for success.\n",
    ">   * If you dont' know what _tokenization_ means, go back and read Chapter 3 again. **The advice to go back and check Chapter 3 is valid for every cleaning step below**.\n",
    ">   * Exclude punctuation.\n",
    ">   * Exclude URLs\n",
    ">   * Exclude stop words (if you don't know what stop words are, go back and read NLPP1e again).\n",
    ">   * Exclude numbers (since they're difficult to interpret in the word cloud).\n",
    ">   * Set everything to lower case.\n",
    ">   * **Note** that none of the above has to be perfect. And there's some room for improvisation. You can try using stemming. In my own first run the results didn't look so nice, because some submissions repeat certain words again and again and again, whereas other are very short. For that reason, I decided to use the unique set of words from each submission rather than each word in proportion to how it's actually used. Choices like that are up to you.\n",
    ">\n",
    "> 3. Find submissions discussing at least one of the top 15 stocks you identified above. To do so: \n",
    "> > * Create a function that finds the intersection between a list of tokens and your list of top 15 stocks. For example, your function applied to the tokens: _\"[Here, TSLA, submission, GME]\"_ should return [\"TSLA\",\"GME\"]. (_Optional_: you can also try to included cases in which the list of tokens contains a company name among your top 15. For example the function applied to _\"[Here, Gamestop, submission]\"_ could return ['GME'].)\n",
    "> > * Create a new column _stock_ in your DataFrame, containing the output of your function applied to the _text_ column. Values in this column should be lists. \n",
    "> > * Handle cases where one post discusses more than one stock by applying the function [__explode__](https://pandas.pydata.org/pandas-docs/stable/reference/api/pandas.DataFrame.explode.html) to the _stock_ column. This will duplicate submissions associated to multiple stocks. After exploding, the values included in the _stock_ column should be strings. \n",
    "> > * Handle cases where none of the selected stocks is discussed by replacing Nan values, for example with \"Other\".\n",
    ">\n",
    "> 4. Now, we want to find out which words are important for each *stock*, so we're going to create several ***large documents, one for each stock***. Each document includes all the tokens related to the same stock. We will also have a document including discussions that do not relate to the top 15 stocks.\n",
    "> 5. Now, we're ready to calculate the TF for each word. Use the method of your choice to find the top 5 terms within __5 stocks of your choice__. \n",
    ">   * Describe similarities and differences between the stocks.\n",
    ">   * Why aren't the TFs not necessarily a good description of the stocks?\n",
    ">   * Next, we calculate IDF for every word. \n",
    ">   * What base logarithm did you use? Is that important?\n",
    "> 6. We're ready to calculate TF-IDF. Do that for the __5 stock of your choice__. \n",
    ">   * List the 10 top TF words for each stock.\n",
    ">  * List the 10 top TF-IDF words for each stock.\n",
    ">   * Are these 10 words more descriptive of the stock? If yes, what is it about IDF that makes the words more informative?"
   ]
  },
  {
<<<<<<< HEAD
<<<<<<< HEAD
=======
>>>>>>> 46267d9edd4c66c035740e53a2b3868a2891b7f9
   "cell_type": "code",
   "execution_count": null,
   "metadata": {},
   "outputs": [],
   "source": [
    "\"\"\"1. First, check out the wikipedia page for TF-IDF. Explain in your own words the point of TF-IDF.\n",
    "What does TF stand for?\n",
    "What does IDF stand for?\"\"\"\n",
    "\n",
    "## TF = Term-Frequency\n",
    "## IDF = Inverse Document Frequency\n"
   ]
  },
  {
   "cell_type": "code",
<<<<<<< HEAD
   "execution_count": 7,
   "metadata": {},
   "outputs": [],
   "source": [
    "import nltk\n",
    "from nltk.corpus import stopwords\n",
    "stop_words = set(stopwords.words('english'))  \n",
    "from nltk.tokenize import RegexpTokenizer\n",
    "import re\n",
    "import string"
   ]
  },
  {
   "cell_type": "code",
   "execution_count": 29,
   "metadata": {
    "tags": []
   },
=======
   "execution_count": 40,
   "metadata": {},
>>>>>>> 48752f13880a628094d7b6da120d1659ecd3af6d
   "outputs": [
    {
     "output_type": "stream",
     "name": "stdout",
     "text": [
<<<<<<< HEAD
      "I read that China's response is something like [80 billion](https://www.ft.com/content/deb56f86-6515-11ea-b3f3-fe4680ea68b5) but i also read something about 200 billion but i might mistaken that with the trade deal thing.\n{'something', 'might', 'china', 'response', 'thing', 'mistaken', 'trade', 'deal', 'i', 'billion', 'also', 'read', 'like'}\n"
=======
      "I read that China's response is something like [80 billion](https://www.ft.com/content/deb56f86-6515-11ea-b3f3-fe4680ea68b5) but i also read something about billion but i might mistaken that with the trade deal thing.\n['i', 'read', 'china', \"'s\", 'response', 'something', 'like', '[80', 'billion', '](https://www.ft.com/content/deb56f86-6515-11ea-b3f3-fe4680ea68b5)', 'also', 'read', 'something', 'billion', 'might', 'mistaken', 'trade', 'deal', 'thing', '.']\n"
>>>>>>> 48752f13880a628094d7b6da120d1659ecd3af6d
     ]
    }
   ],
   "source": [
    "\"\"\"2. Tokenize the text of each submission. Create a column tokens in your dataframe containing the tokens. Remember the bullets below for success.\n",
    "- If you dont' know what tokenization means, go back and read Chapter 3 again. The advice to go back and check Chapter 3 is valid for every cleaning step below.\n",
    "- Exclude punctuation.\n",
    "- Exclude URLs\n",
    "- Exclude stop words (if you don't know what stop words are, go back and read NLPP1e again).\n",
    "- Exclude numbers (since they're difficult to interpret in the word cloud).\n",
    "- Set everything to lower case.\n",
    "- Note that none of the above has to be perfect. And there's some room for improvisation. You can try using stemming. In my own first run the results didn't look so nice, because some submissions repeat certain words again and again and again, whereas other are very short. For that reason, I decided to use the unique set of words from each submission rather than each word in proportion to how it's actually used. Choices like that are up to you.\"\"\"\n",
<<<<<<< HEAD
    "\n",
    "punctuations = ['!', '\"', '#', '%', '&', \"'\", '(', ')', '*', '+', ',', '-', '.', '/', ':', ';', '<', '=', '>', '?', '@', '[', '\\\\', ']', '^', '_', '`', '{', '|', '}', '~']\n",
    "\n",
    "\n",
    "tokenizer = RegexpTokenizer(r'\\w+|\\$[\\d\\.]+|\\S+')\n",
    "\n",
    "def tokenize(text):\n",
    "\n",
    "    # # Remove URL's\n",
    "    # text = re.sub(r'^https?:\\/\\/.*[\\r\\n]*', '', text, flags=re.MULTILINE)\n",
    "    # Remove numbers\n",
    "    text = re.sub(\"^\\d+\\s|\\s\\d+\\s|\\s\\d+$\", \" \", text)\n",
    "    #print(text)\n",
=======
    "import nltk\n",
    "from nltk.corpus import stopwords\n",
    "stop_words = set(stopwords.words('english'))  \n",
    "\n",
    "from nltk.tokenize import RegexpTokenizer\n",
    "tokenizer = RegexpTokenizer(r'\\w+|\\$[\\d\\.]+|\\S+')\n",
    "\n",
    "def tokenize(text):\n",
    "    # Remove URL's\n",
    "    text = re.sub(r'^https?:\\/\\/.*[\\r\\n]*', '', text, flags=re.MULTILINE)\n",
    "    # Remove numbers\n",
    "    text = re.sub(\"^\\d+\\s|\\s\\d+\\s|\\s\\d+$\", \" \", text)\n",
    "    print(text)\n",
>>>>>>> 48752f13880a628094d7b6da120d1659ecd3af6d
    "\n",
    "    # Tokenize and rermove punctuations\n",
    "    tokenized_text = tokenizer.tokenize(text)\n",
    "    \n",
<<<<<<< HEAD
    "    # Remove stopwords and tokens containing any symbol\n",
    "    tokenized_text = [token.lower() for token in tokenized_text if token not in stop_words and not any(symbol in token for symbol in punctuations)]\n",
    "    tokenized_text = [token.replace('$', '') for token in tokenized_text]\n",
    "    \n",
    "    #re.sub(r'^https?:\\/\\/.*[\\r\\n]*', '', tokenized_text, flags=re.MULTILINE)\n",
    "    return set(tokenized_text)\n",
    "\n",
    "\n",
    "string = \"I read that China's response is something like [80 billion](https://www.ft.com/content/deb56f86-6515-11ea-b3f3-fe4680ea68b5) but i also read something about 200 billion but i might mistaken that with the trade deal thing.\"\n",
    "print(string)\n",
    "print(tokenize(string))\n",
    "\n",
    "wsb_subs['tokens'] = wsb_subs.text.apply(tokenize)\n"
=======
    "\n",
    "    # Remove stopwords\n",
    "    tokenized_text = [token.lower() for token in tokenized_text if token not in stop_words]\n",
    "    \n",
    "    #re.sub(r'^https?:\\/\\/.*[\\r\\n]*', '', tokenized_text, flags=re.MULTILINE)\n",
    "    return tokenized_text\n",
    "\n",
    "\n",
    "string = \"I read that China's response is something like [80 billion](https://www.ft.com/content/deb56f86-6515-11ea-b3f3-fe4680ea68b5) but i also read something about 200 billion but i might mistaken that with the trade deal thing.\"\n",
    "\n",
    "print(tokenize(string))\n"
>>>>>>> 48752f13880a628094d7b6da120d1659ecd3af6d
   ]
  },
  {
   "cell_type": "code",
<<<<<<< HEAD
   "execution_count": 43,
   "metadata": {},
   "outputs": [
    {
     "output_type": "stream",
     "name": "stderr",
     "text": [
      "[nltk_data] Downloading package punkt to\n",
      "[nltk_data]     /home/augustsemrau/nltk_data...\n",
      "[nltk_data]   Unzipping tokenizers/punkt.zip.\n"
     ]
    },
    {
     "output_type": "execute_result",
     "data": {
      "text/plain": [
       "True"
      ]
     },
     "metadata": {},
     "execution_count": 43
    }
   ],
   "source": [
    "nltk.download('punkt')"
   ]
  },
  {
   "cell_type": "code",
   "execution_count": 44,
   "metadata": {},
   "outputs": [],
   "source": [
    "import nltk\n",
    "from nltk.corpus import stopwords\n",
    "import validators\n",
    "import re\n",
    "\n",
    "stop_words = stopwords.words('english')\n",
    "\n",
    "def tokenize(text):\n",
    "    tokens = []\n",
    "\n",
    "    for t in nltk.tokenize.word_tokenize(text):\n",
    "        if (not validators.url(t) and t not in stop_words \n",
    "            and not re.match('\\d+(.\\d+)?', t)):\n",
    "            t = t.replace('.', '').strip().lower()\n",
    "            tokens.append(t)\n",
    "\n",
    "    return tokens \n",
    "\n",
    "\n",
    "wsb_subs['tokens'] = wsb_subs['text'].apply(tokenize)"
   ]
  },
  {
   "cell_type": "code",
   "execution_count": 45,
   "metadata": {},
   "outputs": [],
   "source": [
    "wsb_subs.to_csv('/home/augustsemrau/drive/6semester/CSS_02467/comsocsci2021/lectures/data/week6/wsb_subs.csv')"
   ]
  },
  {
   "cell_type": "code",
   "execution_count": 30,
   "metadata": {},
   "outputs": [
    {
     "output_type": "stream",
     "name": "stdout",
     "text": [
      "                                                         title  \\\ncreated_utc                                                      \n1586173811                    What is the Fed actually buying?   \n1586173320        I didn’t learn about puts because I was lazy   \n1586173268                                            HOT TAKE   \n1586172639                                     Fuck you Gordon   \n1586171822                                Can’t find a picture   \n...                                                        ...   \n1602007302                            Hurricane Delta (BECN) 🔥   \n1602006818     Made 40k on Nike. Next play? CROCS motherfucker   \n1602006029   Please screenshot the whole timeline, not just...   \n1602005968    What is your price target for Tesla in 40 years?   \n1601822856     White House infected folks will infect Senators   \n\n                                                      selftext  score  \\\ncreated_utc                                                             \n1586173811   Okay, I may actually just be retarded. On my d...      1   \n1586173320   Beginning of the this virus shit, everyone was...      1   \n1586173268   Literally everyone has free time on their hand...      1   \n1586172639   Gordon I believed in you, I can't even begin t...      1   \n1586171822   Someone uploaded a ohoto of the stock market h...      1   \n...                                                        ...    ...   \n1602007302   \\nHurricane Delta is looking like it is going ...      1   \n1602006818   #  1. Introduction\\n\\n[Proof that I'm lucky](h...      1   \n1602006029   I could nut over your retarded failures just f...      1   \n1602005968   I am 26 and currently max out my roth each yea...      1   \n1601822856   They all gonna get the rona, \\n\\nThis means no...      1   \n\n                                                          text tickers  \\\ncreated_utc                                                              \n1586173811   What is the Fed actually buying? Okay, I may a...      []   \n1586173320   I didn’t learn about puts because I was lazy B...      []   \n1586173268   HOT TAKE Literally everyone has free time on t...      []   \n1586172639   Fuck you Gordon Gordon I believed in you, I ca...      []   \n1586171822   Can’t find a picture Someone uploaded a ohoto ...      []   \n...                                                        ...     ...   \n1602007302   Hurricane Delta (BECN) 🔥 \\nHurricane Delta is ...      []   \n1602006818   Made 40k on Nike. Next play? CROCS motherfucke...      []   \n1602006029   Please screenshot the whole timeline, not just...      []   \n1602005968   What is your price target for Tesla in 40 year...      []   \n1601822856   White House infected folks will infect Senator...      []   \n\n                                                        tokens    stock  \ncreated_utc                                                              \n1586173811   {it, thirdly, one, saying, everyone, whole, lo...  [Other]  \n1586173320   {puts, lazy, everyone, get, shares, googled, c...  [Other]  \n1586173268   {free, it, that, autists, cheap, tldr, everyon...  [Other]  \n1586172639   {dildo, disappointed, gordon, shit, morning, a...  [Other]  \n1586171822   {someone, uploaded, anyone, history, picture, ...  [Other]  \n...                                                        ...      ...  \n1602007302   {hurricanes, harvey, one, throughout, hurrican...  [Other]  \n1602006818   {msrp, reasonable, playing, display, here, sal...  [Other]  \n1602006029   {screenshot, hard, retardation, one, whole, pr...  [Other]  \n1602005968   {will, speculative, shares, years, buy, road, ...  [Other]  \n1601822856   {infect, get, bears, rona, https, folks, model...  [Other]  \n\n[82242 rows x 7 columns]\n"
     ]
    }
   ],
   "source": [
=======
   "execution_count": null,
   "metadata": {},
   "outputs": [],
   "source": [
>>>>>>> 48752f13880a628094d7b6da120d1659ecd3af6d
    "\"\"\"3. Find submissions discussing at least one of the top 15 stocks you identified above. To do so:\n",
    "\n",
    "Create a function that finds the intersection between a list of tokens and your list of top 15 stocks. For example, your function applied to the tokens: \"Here, TSLA, submission, GME\" should return \"TSLA\",\"GME\". (Optional: you can also try to included cases in which the list of tokens contains a company name among your top 15. For example the function applied to \"Here, Gamestop, submission\" could return 'GME'.)\n",
    "Create a new column stock in your DataFrame, containing the output of your function applied to the text column. Values in this column should be lists.\n",
    "Handle cases where one post discusses more than one stock by applying the function explode to the stock column. This will duplicate submissions associated to multiple stocks. After exploding, the values included in the stock column should be strings.\n",
    "Handle cases where none of the selected stocks is discussed by replacing Nan values, for example with \"Other\".\"\"\"\n",
    "\n",
<<<<<<< HEAD
    "def find_top15(tokens):\n",
    "    intersection = [token for token in tokens if token.upper() in top_15_stocks]\n",
    "    if intersection == []:\n",
    "        intersection = ['Other']\n",
    "    return intersection\n",
    "\n",
    "wsb_subs['stock'] = wsb_subs.text.apply(find_top15)\n",
    "wsb_subs.explode('stock')\n",
    "print(wsb_subs)\n",
=======
>>>>>>> 48752f13880a628094d7b6da120d1659ecd3af6d
    "\n"
   ]
  },
  {
   "cell_type": "code",
<<<<<<< HEAD
   "execution_count": 31,
   "metadata": {
    "tags": [
     "outputPrepend"
    ]
   },
   "outputs": [
    {
     "output_type": "stream",
     "name": "stdout",
     "text": [
      " 'night', 'figure', 'keep', 'ride', 'timing', 'atleast', 'right', 'selling', 'my', 'going', 'healthy', 'take', 'i', 'also', 'trying'}, {'lines', 'signal', 'point', 'due', 'get', 'crush', 'calls', 'bands', 'bias', 'line', 'mid', 'pending', 'tight', 'if', 'move', 'coiling', 'correlates', 'moved', 'consolidation', 'rsi', 'afraid', 'pop', 'directly', 'pins', 'like', 'iv', '8', 'bollinger', 'looks', 'showing', 'macd', 'squeeze', 'much', '6', 'tomorrow', 'relations', 'current', 'nov', 'also', 'snap', 'market', 'zero'}, {'net', 'open', 'spike', 'incoming', 'calls', 'buy', '’ll', 'soon', 'yesterday', 'regret', 'yoloing', 'bought', 'actually', '’m', 'ups', 'would', 'sold', 'ton', 'options', 'zm', 'huge', 'profit', 'i', 'earnings', '200'}, {'moon', 'tech', 'contracts', '59c', '🌝', 'popping', 'stocks', 'going', 'chwy', 'betches', '10', 'this', 'get', 'positions', 'sideways'}, {'dies', 'hey', 'wanting', 'puts', '’all', 'fit', 'wait', 'spy', 'week', 'trump', 'got', '13', '’m', 'oct', 'question', 'flop', 'longer', 'place', 'predict', 'coughing', 'fact', 'i', '’ve'}, {'it', 'dollars', 'into', 'everyone', 'put', 'need', 'sees', 'resistance', 'buy', 'millions', 'up', 'price', 'before', 'passed', 'work', 'this', 'today', 'close', 'of', 'guys', 'almost', 'who', 'and', 'to', 'thanks', 'back', 'post', 'i', 'please', 'go', 'market'}, {'amd', 'finally', 'rolling', 'gme', 'transaction', 'cost', 'unload', 'except', 'puts', 'side', 'want', 'incentivized', 'nkla', 'watch', 'get', 'fraud', 'tired', 'pare', '0', '’ll', 'shit', 'suck', 'keep', 'plan', 'baba', 'fire', 'dog', 'short', 'plntr', 'weather', '’t', 'garbage', 'seeing', 'good', 'plays', 'fuck', 'dkng', 'happy', 'worth', 'bets', 'price', 'till', 'insanity', 'logic', 'hell', 'loss', 'vldr', 'third', 'got', 'hydrogen', 'positions', 'close', 'this', 'dumpster', 'closed', '’m', 'done', 'still', '’s', 'know', 'so', 'much', 'win', 'you', 'what', '’re', 'going', 'bearish', 'i', 'institutional', 'money', 'are', 'go', 'defy'}, {'reason', 'im', 'acquired', 'one', 'open', 'puts', 'somebody', 'weeks', 'gopro', 'calls', 'started', 'tier', 'bankrupt', '7', '4', 'looooong', 'couple', 'ago', 'strikes', 'afk', '100', 'soon', 'go', '4m', 'left', 'gone', 'disclaimer', 'volume', 'bear', 'million', 'really', 'writing', 'time', 'moved', 'hypothesis', 'worth', 'gonna', 'crash', 'no', 'think', 'anyways', 'hadnt', 'opened', 'call', 'sus', 'well', 'got', 'found', 'jan', 'today', 'still', 'gay', 'average', 'stock', 'seems', 'almost', 'sold', 'since', 'something', 'april', 'expecting', '21', '16k', 'my', 'fishy', 'gpro', 'interest', 'dd', 'dudes', 'insiders', 'i', 'jumped', 'burned', 'range', 'eventhough', 'tracking'}, {'advice', 'sub', 'get', 'need', 'first', 'dad', '£1000', '£100', 'penny', 'starting', 'see', 'stocks', 'people', 'would', 'using', 'going', 'post', 'just', 'given', 'i', 'go'}, {'', 'extremely', 'initial', 'find', 'facade', 'human', 'held', 'farm', 'care', 'account', 'that', 'collectively', 'spoke', '’re', '“fuck', 'staggering', 'worldwide', 'pltr', 'reddit', 'maintains', 'publishes', 'bears', '2500', 'day', 'wide', 'basement', 'appear', 'despite', 'mission', 'ruse', 'return', 'time', '“all', 'directly', 'purchasing', 'unedited', 'probably', 'so', '“i', 'special', 'know', 'dude', 'followers', 'bulls', 'hype', 'usually', 'now', 'overarching', 'dumber', 'intimate', 'russian', 'intimidating', 'attempts', 'conversation', 'inadvertently', 'sentience', 'headquarters', 'million', 'shambles', 'sources', 'birth', 'sow', 'retains', 'hyln', 'accusation', 'much', 'enough', 'beaten', 'help', 'my', 'communities', 'bots', 'siphoned', 'lines', 'elon', 'one', '2', 'brutalist', 'talk', 'succumbed', 'zoom', 'experienced', 'all', 'across', 'including', 'mods', 'gang', 'going', 'orphanage', 'current', 'purpose', 'confirm', 'certain', 'contracting', 'consulting', 'surface', 'original', 'gewm', 'wsbers', 'spoken', 'deep', 'choose', 'years', 'accordance', 'show', 'control', 'say', 'robinhood', 'prompted', '“and', 'deposit', 'frequent', 'its', 'u', 'bullshit', 'culture', 'roam', 'donations', 'spokesperson', 'print', 'ever', 'get', 'we', 'subsequent', 'lost', 'outward', 'wall', 'particular', 'through', 'stupid', 'price', 'thread', 'substantiated', 'originally', 'stir', 'make', 'legwork', 'neglect', 'place', '”', 'according', 'within', 'wsb', 'journey', 'chance', 'losses', 'russia', 'company', 'target', 'occasionally', 'spends', 'people', 'tickers', 'operation', 'battery', 'zm', 'late', 'services', 'priced', 'how', 'sub', '“pdt', '“gay', 'global', 'first', 'months', 'soon', 'frequency', 'spent', 'blue', '’t', 'kyvyatsingrad', 'decrepit', 'order', 'see', 'power', 'dozens', 'anonymous', 'access', 'events', 'taken', 'money', 'actual', 'moon', 'it', 'meant', 'fake', 'irresponsibility', 'said', 'hundreds', 'describing', 'lit', 'name', 'true', 'shocking', 'removed', 'emerged', 'seems', 'origins', 'on', 'degeneracy', '“consulting', 'option', 'last', 'calls', 'seed', 'end', 'rare', 'platforms', 'promote', 'touch', 'when', 'recently', 'made', 'remarkable', 'even', 'massive', 'activities', 'tits', '’ve', 'bets', '‘leveraged', 'your', 'become', 'remains', 'luckily', 'buy', 'respond', 'vernacular', 'anything', 'online', 'daddy', 'major', 'no', 'quarter', 'almost', 'tsla', 'the', 'what', 'pitted', 'complex', 'interest', 'usd', 'extent', '“our', 'may', 'deposited', 'immediately', 'anyone', 'opportunity', 'started', 'loll', 'rkt', 'far', 'industrial', 'prepared', 'implications', 'community', 'asked', 'hurting', 'political', 'sentient', 'series', 'contact', 'bro', 'anonymity', 'somewhere', 'options', 'in', 'can', '“we', 'unclear', 'fold', 'media', '100', '“stimmy', 'shit', 'coming', 'contracted', 'moscow', 'troll', 'activity', 'rule', 'trading', 'got', 'american', 'buying', 'involving', 'little', 'march', 'continues', 'suspect', 'really', 'im', 'discord', 'background', 'best', 'fuck', 'learned', 'residents', 'like', 'intentional', 'stands', 'bustling', 'welcomed', 'post', 'potatoboinker', '“but', 'just', 'restriction', 'street', 'i', 'bucharest', 'fruitful', 'came', 'poors', 'called', 'servers', 'guess', 'source', 'except', 'denies', 'overt', 'tell', 'deployed', 'story', 'told', 'highly', 'condition', 'shambled', 'confirmed', 'virulent', 'electronic', 'speaking', 'follows', 'went', 'saw', 'high', 'never', 'building', 'stained', 'social', 'sure', 'market', 'mooooon', 'bot', 'daily', 'violating', 'along', 'town', 'trained', 'outside', 'knowledge', 'diverge', 'speculate', 'estimated', 'cover', 'confusion', '’s', 'appears', 'humans', 'firm', 'transcript', 'however', 'to', 'society', 'experts', 'program', 'documents'}, {'puts', 'experiences', 'example', 'things', 'look', 'whatnot', 'calls', 'for', 'buy', 'study', 'analysis', 'end', 'positive', '’t', 'if', 'reverse', 'past', 'like', 'fundamental', 'trading', 'well', 'common', 'conclude', '’m', 'toooon', 'stock', 'much', 'exact', 'technical', 'instead', 'sense', 'losing', 'going', 'just', 'ought', 'opposite', 'i', 'money', 'go'}, {'will', '100', 'claims', 'algorithms', 'wait', 'disclaimer', 'kodak', 'investment', 'tendie', 'apps', 'trading', 'step', 'temporary', 'right', 'that', 'still', 'risk', 'losing', 'indicative', 'milton', 'future', 'act', 'get', 'amount', 'we', 'tired', 'trevor', 'coupon', 'worthless', 'return', 'time', 'bullet', 'easy', 'even', 'guaranteed', 'longer', 'back', 'taking', 'send', 'invested', 'are', 'pesky', 'quickest', 'expire', 'parent', 'hurry', 'keep', 'company', 'created', 'lead', 'involves', 'mind', 'investments', 'guarantee', 'expert', 'the', 'an', 'based', 'way', 'take', 'fluctuate', 'provided', 'services', 'may', 'free', 'tendies', 'performance', 'wholly', 'less', 'necessarily', 'investing', 'providing', 'investor', 'waiting', 'lose', 'value', 'simply', 'satisfaction', 'offer', 'instant', 'long', 'options', 'available'}, {'amd', 'puts', 'put', 'cpu', 'impress', 'look', 'ahead', 'event', 'cause', 'game', 'hi', 'haha', 'thoughts', 'new', 'believe', 'tomorrow', 'fan', 'semi', 'competitors', '10', 'intel', 'trader', 'boy', 'i'}, {'free', 'part', 'advice', 'laptop', 'need', 'without', 'needed', 'consider', 'seeking', 'equipment', 'years', 'pay', '800', 'etc', '1000', 'next', 'november', 'emergency', 'life', 'seasonsed', 'food', 'subreddit', 'forward', 'move', 'job', 'time', 'debt', 'europe', 'paid', 'yolo', 'month', 'start', '5k', 'fund', 'brings', 'that', 'university', 'means', 'true', 'risk', 'living', 'piece', 'guy', 'now', 'phone', 'bcuz', 'my', 'disposable', 'year', 'among', 'options', 'experts', 'fucking', 'every', 'saved', 'i', 'priveleged', 'car', 'old', 'wsb', 'home'}, {'j', 'hard', 'watching', 'plow', 'mothafuckin', 'dipping', 'we', 'continue', 'sick', 'brrrrrrrrrrrrr', 'hims', 'subscription', 'released', 'maintain', 'bf', 'nuggets', 'turn', 'pow', 'romans', 'wife', 'jus', 'mothafuckn', 'ncno', 'board', 'our', '’s', 'minutes', 'hop', '’m', 'blessed', 'afford', 'the', 'machines', 'fed', 'pills', 'late', 'i', 'sauce'}, {'hours', 'anyone', 'rudders', 'required', 'one', 'terminal', 'away', 'ord', '2', '100', 'ahead', 'sam', 'thing', 'beer', 'october', 'if', 'come', 'roi', 'at', 'wants', 'no', 'sex', 'flight', '’s', 'today', 'needing', 'gay', '’m', 'though', 'never', 'dutch', 'turned', '5', 'i', 'wsb'}, {'dollars', 'do', 'nio', 'potential', 'couple', 'months', 'end', 'target', 'price', 'think', 'overkill', 'tesla', 'where', 'give', 'since', 'what', 'reach', 'around', 'year', 'investors', '’ve', 'i'}, {'preformed', 'balance', 'non', 'rocket', 'room', 'podcasting', 'for', 'sheet', 'expansion', 'positive', 'turn', 'nyt', 'subscriber', 'times', 'new', 'the', 'assets', 'is', 'growth', 'selling', 'around', 'york', 'in'}, {'getting', 'reddit', 'autistic', 'for', 'twtr', 'spending', 'real', 'retarded', 'yall', 'fuck', 'suspended', 'like', 'retards', 'people', 'green', 'still', 'asses', 'twitter', 'fucking', 'they'}, {'actual', 'free', 'printing', 'hours', 'point', 'shares', 'day', '’all', 'literally', '50', 'lol', 'thing', 'icln', 'rest', 'money', 'pre', 'letting', 'stays', 'know', 'its', '1', 'printer', 'just', '20c', 'portfolio', 'every', 'gains', 'gain', 'i', 'flat', 'market'}, {'what', 'think', 'soon', 'playing', 'bought', 'anyone', 'coming', 'crashed', 'bit', 'guys', 'shares', 'today', 'i', 'earnings', 'goes', 'hopefully', 'dominoes'}, {'guess', 'early', 'get', 'calls', 'specific', 'shit', 'best', 'was', 'see', 'bought', 'award', 'be', 'tesla', 'sure', 'moment', 'sold', 'ton', 'what', 'interested', 'losing', 'way', 'whoever', 'just', 'your', 'mine', 'money', 'i'}, {'moon', 'joe', 'dollars', 'index', 'history', 'energy', 'plan', 'anti', 'icln', 'good', 'if', 'sleepy', '15', 'past', 'etfs', 'wins', 'pump', 'stocks', 'all', 'fund', 'trillion', 'outperformed', 'green', 'american', 'so', 'almost', 'january', 'even', 'tech', '21', 'potus', 'year', 'donnie', 'moons', 'every', 'clean', 'general', 'market'}, {'ordeal', 'free', 'do', 'sub', 'morningstar', 'whole', 'subscription', 'fellow', 'mean', 'find', 'perspective', 'if', 'worth', 'often', 'actually', 'trial', 'guys', '’s', 'wanted', 'know', 'usefeul', 'is', 'help', 'use', 'retard', 'i', 'regarding'}, {'net', 'dollars', 'posting', 'did', 'recommend', '55', 'investment', 'time', 'robinhood', 'currently', 'starting', 'loss', 'see', 'people', 'accumulate', 'much', 'invested', 'i', 'gain', 'money', 'thousands', 'how'}, {'companies', 'future', 'material', 'denominator', 'investing', 'worth', 'wondering', 'recently', 'thoughts', 'common', 'found', 'producing', 'know', 'technologies', 'raw', 'biggest', 'is', 'i', 'tin'}, {'companies', 'future', 'material', 'denominator', 'investing', 'real', 'worth', 'wondering', 'recently', 'thoughts', 'common', 'found', 'producing', 'know', 'technologies', 'biggest', 'is', 'i', 'tin'}, {'fucked', '😭🥜', 'anyone', 'honestly', '🍕', 'pizza', 'get', 'feels', 'bears', 'bad', 'else', '’t', 'fuck', 'like', 'month', 'people', 'profited', 'sign', 'buying', 'dominos', 'economy', 'earnings'}, {'note', 'anyone', '133', 'side', 'looking', 'revenue', '17', 'continue', 'calls', 'peleton', 'subscription', 'introduce', 'up', 'likely', 'service', 'itm', 'obviously', 'does', 'otm', 'anybody', 'like', 'blow', 'recurring', 'form', 'make', '’s', 'earnings', '’m', 'oct', 'holding', 'even', 'something', 'sense', 'pton', 'way', 'also', 'on', 'nov', '97', 'i', 'money', 'run', 'hold', 'flip', 'nls', 'may'}, {'existing', '56', '06', 'capable', 'drughouse', 'commitment', 'research', 'joins', 'industrial', 'rapidly', 'manufacturing', 'protype', 'm', 'advanced', 'previous', 'moderna', 'vaccines', 'projects', 'defense', 'awarded', '2013', 'darpa', 'sniper', 'military', 'fund', 'mobile', 'producing', 'grant', 'the', 'technology', 'agency', 'mrna', 'announced', 'builds', 'complex', 'established', 'leveraging', 'development', 'also', 'assistance', 'agreement', 'therapeutics'}, {'called', 'compared', 'strong', '🌈🐻s', 'boys', 'incoming', 'day', '2nd', 'sight', 'foreclosure', '🌈🐻', 'somehow', 'huddle', 'only', 'soon', 'absurd', 'ath', 'horizon', 'fuck', 'week', 'spy', 'bill', 'miniscule', 'trump', 'trading', 'happens', 'right', 'all', 'trillion', 'previously', 'anticipated', 'stonks', 'targeted', 'even', 'would', 'believe', 'multiples', '336p', 'gang', '341p', 'going', 'corona', 'crisis', 'sometime', '10', '5', 'stay', 'stimulus', 'wave', 'i', 'market'}, {'added', 'q3', 'cost', 'hard', 'predicted', 'x', 'q1', 'income', 'looking', 'get', 'shares', 'investing', 'pay', 'contract', 'buy', 'wrap', 'company', 'works', 'thing', 'head', 'a', 'does', 'once', 'understand', 'expendable', 'full', 'price', 'trading', 'already', 'right', 'easy', 'actually', 'otherwise', 'so', 'but', 'new', 'sorry', 'what', 'question', 'stated', 'thanks', 'around', 'options', 'q2', 'fairly', 'i', 'require', 'confused', 'market'}, {'hurricanes', 'harvey', 'one', 'throughout', 'hurricane', 'rise', 'looking', 'expect', 'storms', 'look', 'makes', 'lots', 'golf', 'cause', 'mexico', 'roofing', 'if', 'week', 'performed', 'delta', 'like', 'damage', 'stocks', 'could', 'well', 'make', 'friday', 'news', 'hit', 'this', '2017', 'supply', 'biggest', 'since', 'sense', 'continues', 'going', 'around', 'take', 'beacon', 'year', 'somewhere', 'i', 'sticks', '🔥'}, {'msrp', 'reasonable', 'playing', 'display', 'here', 'sales', 'expectations', 'lows', 'higher', 'figured', 'jordans', 'find', 'if', 'wants', 'always', 'big', 'right', 'brings', 'that', 'autist', 'recent', 'successful', 'and', 'clearly', 'products', 'introduction', 'pattern', 'costco', 'meanwhile', 'beats', 'reappear', 'trying', 'hey', 'withdraw', 'field', 'compared', 'future', 'bieber', 'lucky', 'bears', 'day', 'anticipating', 'explain', '4', 'sell', 'appear', 'august', 'believers', '55c', 'time', 'shipments', 'probably', 'reliable', 'runup', 'so', 'know', 'hype', 'expecting', 'secure', 'especially', 'disaster', 'general', 'unless', 'correlated', 'with', 'not', 'medical', 'million', 'blew', 'making', 'bought', 'third', 'mind', 'adjust', '’m', 'aspects', 'much', 'enough', 'share', 'help', 'conclusion', 'around', 'depends', 'cannot', 'y', 'earnings', 'divergence', 'asleep', 'dumb', 'lines', 'early', 'one', 'picking', 'spiking', '20th', '2', 'updates', 'attention', 'talk', 'bad', '50', 'spy', 'became', 'paying', 'consumer', 'customer', 'talking', 'damned', 'all', 'period', 'analysts', 'anticipation', 'ubiquity', 'going', 'gotten', 'drops', '10', 'wildly', 'rich', 'sneaker', 'certain', 'dealing', 'fucked', 'dollars', 'structure', 'boys', 'storm', 'bunny', 'unusual', 'say', 'reading', 'renaissance', 'regular', 'nearly', 'but', 'still', 'footwear', 'play', 'midyear', 'record', 'supply', 'rumors', 'perfect', 'motherfucker', 'lulu', 'tons', 'fucking', 'also', 'range', 'similar', 'tightening', 'results', 'alright', 'pretty', 'position', 'get', 'stores', 'wheel', 'pair', 'november', 'measuring', 'nyc', 'lost', 'popped', 'unlikely', 'gravity', 'ath', 'hambone', 'wears', 'wall', 'writing', 'pa', 'second', 'pop', 'price', 'could', 'outperforming', 'grateful', 'lot', 'new', 'generally', 'would', 'peak', 'simple', 'are', 'carried', 'while', 'finally', 'indicator', 'targets', 'implied', 'sentence', 'dead', 'doctors', 'logistical', 'as', 'autistic', 'finding', '11', 'keep', 'company', 'follow', 'october', 'k', 'testimonial', 'drop', 'movement', 'runs', 'stocks', 'people', 'means', 'terrible', 'warning', 'of', 'nike', 'able', 'monarchs', 'bonkers', '5', 'issues', '100k', 'dd', 'every', 'late', 'bake', 'near', 'performance', 'getting', 'nonetheless', 'many', 'thousand', 'somebody', 'word', 'everything', 'first', 'next', 'ahead', 'spent', 'real', 'sellers', 'entire', '’t', 'hitting', 'obviously', 'systems', 'see', 'surety', 'suggests', 'behaving', 'closes', 'industry', 'spring', 'component', 'builds', 'choice', 'nj', 'macro', 'chains', 'highs', 'money', 'regarding', 'available', 'strongly', 'sports', 'it', 'part', 'delivery', 'dipping', 'point', 'nikes', 'momentum', 'equipment', 'spending', 'meh', 'collab', 'paid', 'frothy', 'nke', 'reported', 'true', 'compare', 'better', 'september', 'which', 'nearest', 'obvious', 'please', 'consequence', 'simultaneously', 'non', 'last', 'batches', 'welcome', 'waves', 'seconds', 'crocs', 'smarter', 'release', 'end', 'formations', 'retarded', 'familiar', 'snatch', 'prices', 'pops', 'made', 'moment', 'even', 'is', '1', 'selling', 'sites', 'pton', 'back', 'yes', 'although', 'barely', 'production', 'report', 'date', 'put', 'quicker', 'online', 'positive', 'chicken', 'created', '40k', 'there', 'recovering', 'understands', 'goat', 'quarter', 'missing', 'beat', 'narratives', 'tsla', 'the', 'profits', 'way', 'take', 'satisfied', 'broader', 'thousands', 'may', 'starts', 'immediately', 'releases', 'x', 'climbed', 'started', 'returns', 'potential', 'downplayed', 'etc', 'lose', 'upping', 'crox', 'works', 'likely', 's', 'designing', 'devastated', '40', 'timing', 'times', 'shoes', 'alone', 'water', 'close', 'grabbing', 'premarket', '2020', 'quarantine', 'donated', 'established', 'somewhere', 'settling', 'options', 'in', 'posted', 'absolutely', 'saying', 'sleeping', 'specific', 'shit', 'mispriced', '22', 'action', 'pavement', 'move', 'nerds', 'lately', 'summation', 'read', 'rolled', 'surging', '45', 'two', 'weep', 'patterns', 'well', 'shoe', 'biggest', 'opening', '3', 'resale', 'expected', 'billions', 'sort', 'personally', 'comments', 'really', 'collabs', 'matter', 'nobody', 'aggressively', 'fuck', 'feet', 'like', 'crash', 'buttressed', 'reeeeaaaaal', '1st', 'post', 'year', 'i', 'ah', 'street', 'came', 'limited', 'nuts', 'these', 'predicting', 'emphasis', 'sentiment', 'things', 'stockx', 'room', 'dollar', 'great', '115', 'repeating', 'feel', 'center', 'outrageous', 'hardworking', 'outperform', 'basically', 'work', 'secondhand', 'meme', 'saw', 'high', 'an', 'constantly', 'kfc', 'explaining', 'stress', 'never', 'covid', 'let', 'sure', 'software', 'market', 'queue', 'love', 'strong', 'posting', 'want', 'along', 'mostly', 'june', 'crossovers', 'giant', 'folks', 'breakout', 'everywhere', 'more', 'analyst', 'roof', 'headlines', 'swung', 'anybody', 'deliveries', 'start', 'hospital', 'justin', 'summer', '’s', 'this', 'minutes', 'stock', 'appears', '50c', 'exact', 'sold', 'however', 'spend', 'commodity', 'retail', 'air'}, {'screenshot', 'hard', 'retardation', 'one', 'whole', 'providing', 'bad', 'or', 'timeline', 'nice', 'retarded', 'seeing', 'bust', 'gets', 'loses', 'voluptuous', 'loss', 'could', 'call', 'well', 'means', 'work', '’s', 'thinking', 'losing', 'going', 'turned', 'fine', 'nut', 'gains', 'i', 'ultimate', 'please', 'failures', 'really'}, {'will', 'speculative', 'shares', 'years', 'buy', 'road', 'far', 'max', 'roth', 'target', 'robinhood', 'worth', 'currently', 'price', 'think', 'retirement', 'stocks', 'age', 'probably', 'tesla', 'hit', 'high', 'share', 'what', 'growth', 'year', 'i'}, {'infect', 'get', 'bears', 'rona', 'https', 'folks', 'modelo', 'cure', 'wall', 'house', 'gonna', 'drink', 'infected', 'checkies', 'probably', 'means', 'this', 'gay', 'senators', 'corona', 'take', 'white', 'stimulus', 'they', 'street'}]}\n"
     ]
    }
   ],
   "source": [
    "\"\"\"4. Now, we want to find out which words are important for each stock, so we're going to create several large documents, one for each stock. Each document includes all the tokens related to the same stock. We will also have a document including discussions that do not relate to the top 15 stocks.\"\"\"\n",
    "\n",
    "top_15_stocks_docs = top_15_stocks\n",
    "\n",
    "for stock in top_15_stocks.keys():\n",
    "    print(stock)\n",
    "    top_15_stocks[stock] = []\n",
    "        \n",
    "    for _, row in wsb_subs.iterrows():\n",
    "        if stock in row['stock']:\n",
    "            top_15_stocks_docs[stock].append(row['tokens'])\n",
    "            \n",
    "\n",
    "print(top_15_stocks_docs)"
=======
   "execution_count": null,
   "metadata": {},
   "outputs": [],
   "source": [
    "\"\"\"4. Now, we want to find out which words are important for each stock, so we're going to create several large documents, one for each stock. Each document includes all the tokens related to the same stock. We will also have a document including discussions that do not relate to the top 15 stocks.\"\"\"\n",
    "\n"
>>>>>>> 48752f13880a628094d7b6da120d1659ecd3af6d
   ]
  },
  {
   "cell_type": "code",
<<<<<<< HEAD
   "execution_count": 33,
   "metadata": {},
   "outputs": [
    {
     "output_type": "stream",
     "name": "stdout",
     "text": [
      "[]\n"
     ]
    }
   ],
=======
   "execution_count": null,
   "metadata": {},
   "outputs": [],
>>>>>>> 48752f13880a628094d7b6da120d1659ecd3af6d
   "source": [
    "\"\"\"5. Now, we're ready to calculate the TF for each word. Use the method of your choice to find the top 5 terms within 5 stocks of your choice.\n",
    "Describe similarities and differences between the stocks.\n",
    "Why aren't the TFs not necessarily a good description of the stocks?\n",
    "Next, we calculate IDF for every word.\n",
    "What base logarithm did you use? Is that important?\"\"\"\n",
<<<<<<< HEAD
    "print(top_15_stocks['baba'])\n"
=======
    "\n"
>>>>>>> 48752f13880a628094d7b6da120d1659ecd3af6d
   ]
  },
  {
   "cell_type": "code",
   "execution_count": null,
   "metadata": {},
   "outputs": [],
   "source": [
    "\"\"\"6. We're ready to calculate TF-IDF. Do that for the 5 stock of your choice.\n",
    "List the 10 top TF words for each stock.\n",
    "List the 10 top TF-IDF words for each stock.\n",
    "Are these 10 words more descriptive of the stock? If yes, what is it about IDF that makes the words more informative?\"\"\"\n",
    "\n",
    "\n"
   ]
  },
  {
<<<<<<< HEAD
=======
>>>>>>> upstream/master
=======
>>>>>>> 46267d9edd4c66c035740e53a2b3868a2891b7f9
   "cell_type": "markdown",
   "metadata": {},
   "source": [
    " _Exercise 4: The Wordcloud_. It's time to visualize our results!\n",
    "\n",
    "> * Install the [`WordCloud`](https://pypi.org/project/wordcloud/) module. \n",
    "> * Now, create word-cloud for each stock. Feel free to make it as fancy or non-fancy as you like. \n",
    "> * Comment on the results. Are these words to be expected? Is there anything that is surprising? "
   ]
  },
  {
   "cell_type": "markdown",
   "metadata": {},
   "source": [
    "_Exercise 5: A Study Project in Computational Social Science._\n",
    "> 1. Read the [Project Assignment](https://github.com/lalessan/comsocsci2021/wiki/Project-Assignment) page, where I explain how to set up a Study Project.\n",
    "> 2. Think of a topic of interest to your would like to study using data downloaded from the Web (Wikipedia, Twitter, Reddit, Facebook, Github, other data sources...), and some of the methods we have seen in this course. \n",
    "> 3. What is the topic? \n",
    "> 4. What is the data? \n",
    "> 5. Write down 3 research questions related to your topic that you would like to investigate.\n",
    "> 6. Put together 1 slide including the answers to points 3,4,5.\n",
    "\n",
    "__Important__: This will be by no means the final choice for your Project Assignment. All I want is for you guys to start thinking about it."
   ]
  },
  {
<<<<<<< HEAD
   "source": [
    "1. Done\n",
    "2. Topic for investigation: Are people reading more or less? What if we include news, reddit posts, etc.?\n",
    "3. ngagement.\n"
   ],
   "cell_type": "markdown",
   "metadata": {}
=======
   "cell_type": "code",
   "execution_count": null,
   "metadata": {},
   "outputs": [],
   "source": []
<<<<<<< HEAD
>>>>>>> upstream/master
=======
>>>>>>> 48752f13880a628094d7b6da120d1659ecd3af6d
>>>>>>> 46267d9edd4c66c035740e53a2b3868a2891b7f9
  }
 ],
 "metadata": {
  "anaconda-cloud": {},
  "kernelspec": {
   "display_name": "Python 3",
   "language": "python",
   "name": "python3"
  },
  "language_info": {
   "codemirror_mode": {
    "name": "ipython",
    "version": 3
   },
   "file_extension": ".py",
   "mimetype": "text/x-python",
   "name": "python",
   "nbconvert_exporter": "python",
   "pygments_lexer": "ipython3",
<<<<<<< HEAD
<<<<<<< HEAD
   "version": "3.8.5-final"
=======
   "version": "3.8.3"
>>>>>>> upstream/master
=======
   "version": "3.8.5-final"
>>>>>>> 46267d9edd4c66c035740e53a2b3868a2891b7f9
  }
 },
 "nbformat": 4,
 "nbformat_minor": 1
<<<<<<< HEAD
<<<<<<< HEAD
}
=======
}
>>>>>>> upstream/master
=======
}
>>>>>>> 46267d9edd4c66c035740e53a2b3868a2891b7f9
